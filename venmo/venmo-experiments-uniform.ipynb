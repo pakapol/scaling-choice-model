{
 "cells": [
  {
   "cell_type": "markdown",
   "metadata": {},
   "source": [
    "# Experiments on Venmo data"
   ]
  },
  {
   "cell_type": "code",
   "execution_count": 1,
   "metadata": {},
   "outputs": [],
   "source": [
    "from MNLogit_bfgs_torch import MNLogit\n",
    "import numpy as np\n",
    "import pandas as pd\n",
    "import matplotlib.pyplot as plt\n",
    "import sys, os, time"
   ]
  },
  {
   "cell_type": "code",
   "execution_count": 2,
   "metadata": {},
   "outputs": [],
   "source": [
    "from IPython.display import clear_output\n",
    "%matplotlib inline"
   ]
  },
  {
   "cell_type": "code",
   "execution_count": 3,
   "metadata": {},
   "outputs": [],
   "source": [
    "PATH = 'venmo-data-0/'"
   ]
  },
  {
   "cell_type": "code",
   "execution_count": 4,
   "metadata": {},
   "outputs": [],
   "source": [
    "uniform_filenames = sorted([PATH + x for x in os.listdir(PATH) if '151744' in x and '--1--1' in x], key=lambda x: int(x.split('-')[-5]))"
   ]
  },
  {
   "cell_type": "code",
   "execution_count": 5,
   "metadata": {},
   "outputs": [
    {
     "data": {
      "text/plain": [
       "['venmo-data-0/1517443200-1519862400-31536000-0.0100-48--1--1',\n",
       " 'venmo-data-0/1517443200-1519862400-31536000-0.0100-64--1--1',\n",
       " 'venmo-data-0/1517443200-1519862400-31536000-0.0100-96--1--1',\n",
       " 'venmo-data-0/1517443200-1519862400-31536000-0.0100-150--1--1',\n",
       " 'venmo-data-0/1517443200-1519862400-31536000-0.0100-200--1--1',\n",
       " 'venmo-data-0/1517443200-1519862400-31536000-0.0100-300--1--1',\n",
       " 'venmo-data-0/1517443200-1519862400-31536000-0.0100-400--1--1',\n",
       " 'venmo-data-0/1517443200-1519862400-31536000-0.0100-600--1--1',\n",
       " 'venmo-data-0/1517443200-1519862400-31536000-0.0100-800--1--1',\n",
       " 'venmo-data-0/1517443200-1519862400-31536000-0.0100-1200--1--1',\n",
       " 'venmo-data-0/1517443200-1519862400-31536000-0.0100-1600--1--1',\n",
       " 'venmo-data-0/1517443200-1519862400-31536000-0.0100-2400--1--1',\n",
       " 'venmo-data-0/1517443200-1519862400-31536000-0.0100-3200--1--1']"
      ]
     },
     "execution_count": 5,
     "metadata": {},
     "output_type": "execute_result"
    }
   ],
   "source": [
    "uniform_filenames"
   ]
  },
  {
   "cell_type": "code",
   "execution_count": 6,
   "metadata": {},
   "outputs": [],
   "source": [
    "def fit_filename(s):\n",
    "  print(\"Processing \" + s)\n",
    "  num_neg = int(s.split('-')[-5])\n",
    "  train = pd.read_csv(s, header=None, sep=',').values[:,5:].reshape(-1, num_neg+1, 8)\n",
    "  sws = -np.log(train[:,:,0] / train[:,:,1])\n",
    "  Xs = train[:,:,[5]]\n",
    "  del train\n",
    "  ys = np.zeros(Xs.shape[0], dtype=int)\n",
    "  Xs = np.concatenate([np.log(Xs + (Xs==0)), 1*(Xs>0)], axis=2)\n",
    "  m = MNLogit(num_threads=64)\n",
    "  m.data(Xs, ys, sws=sws)\n",
    "  del Xs, ys, sws\n",
    "\n",
    "  def show(model, info):\n",
    "    print(\"Iter {} - {:.1f}s, ET: {:.1f}s, Avg Loss: {:.6f}, |H\\\\dw|: {:.6f}, Avg |dw| {:.6f}\"\\\n",
    "        .format(info['num_iter'], info['iter_time'], info['total_time'], info['avg_loss'], info['inc_norm'], info['avg_grad_norm']))\n",
    "\n",
    "  m.fit(max_num_iter=300)\n",
    "  print(\"Done with \" + s)\n",
    "  return m.get_model_info()"
   ]
  },
  {
   "cell_type": "code",
   "execution_count": 7,
   "metadata": {},
   "outputs": [
    {
     "name": "stdout",
     "output_type": "stream",
     "text": [
      "Processing venmo-data-0/1517443200-1519862400-31536000-0.0100-200--1--1\n",
      "Processing venmo-data-0/1517443200-1519862400-31536000-0.0100-64--1--1\n",
      "Processing venmo-data-0/1517443200-1519862400-31536000-0.0100-48--1--1\n",
      "Processing venmo-data-0/1517443200-1519862400-31536000-0.0100-400--1--1\n",
      "Processing venmo-data-0/1517443200-1519862400-31536000-0.0100-96--1--1\n",
      "Processing venmo-data-0/1517443200-1519862400-31536000-0.0100-150--1--1\n",
      "Processing venmo-data-0/1517443200-1519862400-31536000-0.0100-1600--1--1\n",
      "Processing venmo-data-0/1517443200-1519862400-31536000-0.0100-600--1--1\n",
      "Processing venmo-data-0/1517443200-1519862400-31536000-0.0100-800--1--1\n",
      "Processing venmo-data-0/1517443200-1519862400-31536000-0.0100-300--1--1\n",
      "Processing venmo-data-0/1517443200-1519862400-31536000-0.0100-1200--1--1\n",
      "Done with venmo-data-0/1517443200-1519862400-31536000-0.0100-48--1--1\n",
      "Done with venmo-data-0/1517443200-1519862400-31536000-0.0100-64--1--1\n",
      "Done with venmo-data-0/1517443200-1519862400-31536000-0.0100-96--1--1\n",
      "Done with venmo-data-0/1517443200-1519862400-31536000-0.0100-150--1--1\n",
      "Done with venmo-data-0/1517443200-1519862400-31536000-0.0100-200--1--1\n",
      "Done with venmo-data-0/1517443200-1519862400-31536000-0.0100-300--1--1\n",
      "Done with venmo-data-0/1517443200-1519862400-31536000-0.0100-400--1--1\n",
      "Done with venmo-data-0/1517443200-1519862400-31536000-0.0100-600--1--1\n",
      "Done with venmo-data-0/1517443200-1519862400-31536000-0.0100-800--1--1\n",
      "Done with venmo-data-0/1517443200-1519862400-31536000-0.0100-1200--1--1\n",
      "Done with venmo-data-0/1517443200-1519862400-31536000-0.0100-1600--1--1\n"
     ]
    }
   ],
   "source": [
    "from multiprocessing import Pool\n",
    "with Pool(11) as p:\n",
    "  uniform_results = p.map(fit_filename, uniform_filenames[:11])\n",
    "# with Pool(2) as p:\n",
    "#   uniform_results += p.map(fit_filename, uniform_filenames[11:])"
   ]
  },
  {
   "cell_type": "code",
   "execution_count": 8,
   "metadata": {},
   "outputs": [],
   "source": [
    "num_negs = [int(s.split('-')[-5]) for s in uniform_filenames]"
   ]
  },
  {
   "cell_type": "code",
   "execution_count": 9,
   "metadata": {},
   "outputs": [],
   "source": [
    "# col_names = [\"In TXNs\",\"Out TXNs\",\"Unique Friends\",\"Payer to Candidate\",\n",
    "#              \"Candidate to Payer\",\"Friends paid Candidate\"][[2,5]]\n",
    "col_names = [\"Payer to Candidate\"]"
   ]
  },
  {
   "cell_type": "code",
   "execution_count": 10,
   "metadata": {},
   "outputs": [],
   "source": [
    "weights = np.array([sr['weights'] for sr in uniform_results]).T\n",
    "ses = np.array([sr['se'] for sr in uniform_results]).T"
   ]
  },
  {
   "cell_type": "code",
   "execution_count": 11,
   "metadata": {},
   "outputs": [
    {
     "data": {
      "text/plain": [
       "Text(0.5,1,'Uniform, coefficient')"
      ]
     },
     "execution_count": 11,
     "metadata": {},
     "output_type": "execute_result"
    },
    {
     "data": {
      "image/png": "[encoded data removed]",
      "text/plain": [
       "<Figure size 432x288 with 1 Axes>"
      ]
     },
     "metadata": {},
     "output_type": "display_data"
    }
   ],
   "source": [
    "for i in range(1):\n",
    "  plt.errorbar(x=num_negs[:-2], y=weights[i], yerr=ses[i], label='Log ' + col_names[i])\n",
    "\n",
    "plt.xscale('log')\n",
    "ticks = [48,64,96,150,200,300,400,600,800,1200,1600]#,2400,3200]\n",
    "plt.xticks(ticks, ticks)\n",
    "plt.grid()\n",
    "plt.ylim(-1,4)\n",
    "plt.legend(bbox_to_anchor=(1.0, 1.0))\n",
    "plt.title('Uniform, coefficient')"
   ]
  },
  {
   "cell_type": "code",
   "execution_count": 15,
   "metadata": {},
   "outputs": [
    {
     "data": {
      "text/plain": [
       "Text(0.5,1,'Uniform, coefficient')"
      ]
     },
     "execution_count": 15,
     "metadata": {},
     "output_type": "execute_result"
    },
    {
     "data": {
      "image/png": "[encoded data removed]",
      "text/plain": [
       "<Figure size 432x288 with 1 Axes>"
      ]
     },
     "metadata": {},
     "output_type": "display_data"
    }
   ],
   "source": [
    "for i in range(1,2):\n",
    "  plt.errorbar(x=num_negs[:-2], y=weights[i], yerr=ses[i], label='1[' + col_names[i%1] + ' > 0]')\n",
    "  \n",
    "plt.xscale('log')\n",
    "ticks = [48,64,96,150,200,300,400,600,800,1200,1600]#,2400,3200]\n",
    "plt.xticks(ticks, ticks)\n",
    "plt.grid()\n",
    "# plt.ylim(-1,16)\n",
    "plt.legend(bbox_to_anchor=(1.0, 1.0))\n",
    "plt.title('Uniform, coefficient')"
   ]
  },
  {
   "cell_type": "code",
   "execution_count": 13,
   "metadata": {},
   "outputs": [
    {
     "data": {
      "text/plain": [
       "Text(0.5,1,'Uniform, S.E')"
      ]
     },
     "execution_count": 13,
     "metadata": {},
     "output_type": "execute_result"
    },
    {
     "data": {
      "image/png": "[encoded data removed]",
      "text/plain": [
       "<Figure size 432x288 with 1 Axes>"
      ]
     },
     "metadata": {},
     "output_type": "display_data"
    }
   ],
   "source": [
    "for i in range(1):\n",
    "  plt.plot(num_negs[:11], ses[i], label='S.E. Log ' + col_names[i%1])\n",
    "  \n",
    "plt.xscale('log')\n",
    "plt.yscale('log')\n",
    "ticks = [48,64,96,150,200,300,400,600,800,1200,1600]#,2400,3200]\n",
    "plt.xticks(ticks, ticks)\n",
    "plt.grid()\n",
    "plt.ylim(0.001,2)\n",
    "plt.legend(bbox_to_anchor=(1.0, 1.0))\n",
    "plt.title('Uniform, S.E')"
   ]
  },
  {
   "cell_type": "code",
   "execution_count": 14,
   "metadata": {},
   "outputs": [
    {
     "ename": "IndexError",
     "evalue": "index 6 is out of bounds for axis 0 with size 2",
     "output_type": "error",
     "traceback": [
      "\u001b[0;31m---------------------------------------------------------------------------\u001b[0m",
      "\u001b[0;31mIndexError\u001b[0m                                Traceback (most recent call last)",
      "\u001b[0;32m<ipython-input-14-c13c50f9cdbc>\u001b[0m in \u001b[0;36m<module>\u001b[0;34m()\u001b[0m\n\u001b[1;32m      1\u001b[0m \u001b[0;32mfor\u001b[0m \u001b[0mi\u001b[0m \u001b[0;32min\u001b[0m \u001b[0mrange\u001b[0m\u001b[0;34m(\u001b[0m\u001b[0;36m6\u001b[0m\u001b[0;34m,\u001b[0m \u001b[0;36m12\u001b[0m\u001b[0;34m)\u001b[0m\u001b[0;34m:\u001b[0m\u001b[0;34m\u001b[0m\u001b[0m\n\u001b[0;32m----> 2\u001b[0;31m   \u001b[0mplt\u001b[0m\u001b[0;34m.\u001b[0m\u001b[0mplot\u001b[0m\u001b[0;34m(\u001b[0m\u001b[0mnum_negs\u001b[0m\u001b[0;34m,\u001b[0m \u001b[0mses\u001b[0m\u001b[0;34m[\u001b[0m\u001b[0mi\u001b[0m\u001b[0;34m]\u001b[0m\u001b[0;34m,\u001b[0m \u001b[0mlabel\u001b[0m\u001b[0;34m=\u001b[0m\u001b[0;34m'S.E. 1['\u001b[0m \u001b[0;34m+\u001b[0m \u001b[0mcol_names\u001b[0m\u001b[0;34m[\u001b[0m\u001b[0mi\u001b[0m\u001b[0;34m%\u001b[0m\u001b[0;36m6\u001b[0m\u001b[0;34m]\u001b[0m \u001b[0;34m+\u001b[0m \u001b[0;34m']'\u001b[0m\u001b[0;34m)\u001b[0m\u001b[0;34m\u001b[0m\u001b[0m\n\u001b[0m\u001b[1;32m      3\u001b[0m \u001b[0;34m\u001b[0m\u001b[0m\n\u001b[1;32m      4\u001b[0m \u001b[0mplt\u001b[0m\u001b[0;34m.\u001b[0m\u001b[0mxscale\u001b[0m\u001b[0;34m(\u001b[0m\u001b[0;34m'log'\u001b[0m\u001b[0;34m)\u001b[0m\u001b[0;34m\u001b[0m\u001b[0m\n\u001b[1;32m      5\u001b[0m \u001b[0mplt\u001b[0m\u001b[0;34m.\u001b[0m\u001b[0myscale\u001b[0m\u001b[0;34m(\u001b[0m\u001b[0;34m'log'\u001b[0m\u001b[0;34m)\u001b[0m\u001b[0;34m\u001b[0m\u001b[0m\n",
      "\u001b[0;31mIndexError\u001b[0m: index 6 is out of bounds for axis 0 with size 2"
     ]
    }
   ],
   "source": [
    "for i in range(6, 12):\n",
    "  plt.plot(num_negs, ses[i], label='S.E. 1[' + col_names[i%6] + ']')\n",
    "  \n",
    "plt.xscale('log')\n",
    "plt.yscale('log')\n",
    "ticks = [48,64,96,150,200,300,400,600,800,1200,1600,2400,3200]\n",
    "plt.xticks(ticks, ticks)\n",
    "plt.ylim(0.001,2)\n",
    "plt.grid()\n",
    "plt.legend(bbox_to_anchor=(1.0, 1.0))\n",
    "plt.title('Uniform, S.E.')"
   ]
  },
  {
   "cell_type": "code",
   "execution_count": null,
   "metadata": {},
   "outputs": [],
   "source": []
  }
 ],
 "metadata": {
  "kernelspec": {
   "display_name": "Python 3",
   "language": "python",
   "name": "python3"
  },
  "language_info": {
   "codemirror_mode": {
    "name": "ipython",
    "version": 3
   },
   "file_extension": ".py",
   "mimetype": "text/x-python",
   "name": "python",
   "nbconvert_exporter": "python",
   "pygments_lexer": "ipython3",
   "version": "3.5.2"
  }
 },
 "nbformat": 4,
 "nbformat_minor": 2
}
