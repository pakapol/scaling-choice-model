{
 "cells": [
  {
   "cell_type": "markdown",
   "metadata": {},
   "source": [
    "# Experiments on Venmo data"
   ]
  },
  {
   "cell_type": "code",
   "execution_count": 1,
   "metadata": {},
   "outputs": [],
   "source": [
    "from MNLogit_bfgs_torch import MNLogit\n",
    "import numpy as np\n",
    "import pandas as pd\n",
    "import matplotlib.pyplot as plt\n",
    "import sys, os, time"
   ]
  },
  {
   "cell_type": "code",
   "execution_count": 2,
   "metadata": {},
   "outputs": [],
   "source": [
    "from IPython.display import clear_output\n",
    "%matplotlib inline"
   ]
  },
  {
   "cell_type": "code",
   "execution_count": 3,
   "metadata": {},
   "outputs": [],
   "source": [
    "PATH = './'\n",
    "stratified_filenames = sorted([PATH + x for x in os.listdir(PATH) if '1334' in x and '--1--1' not in x], key=lambda x: int(x.split('-')[-3]))"
   ]
  },
  {
   "cell_type": "code",
   "execution_count": 4,
   "metadata": {},
   "outputs": [
    {
     "data": {
      "text/plain": [
       "['./1334167200-1342828800-31536000-1.0000-6-2-2',\n",
       " './1334167200-1342828800-31536000-1.0000-9-3-3',\n",
       " './1334167200-1342828800-31536000-1.0000-12-4-4',\n",
       " './1334167200-1342828800-31536000-1.0000-18-6-6',\n",
       " './1334167200-1342828800-31536000-1.0000-24-8-8',\n",
       " './1334167200-1342828800-31536000-1.0000-36-12-12',\n",
       " './1334167200-1342828800-31536000-1.0000-48-16-16',\n",
       " './1334167200-1342828800-31536000-1.0000-72-24-24',\n",
       " './1334167200-1342828800-31536000-1.0000-96-32-32']"
      ]
     },
     "execution_count": 4,
     "metadata": {},
     "output_type": "execute_result"
    }
   ],
   "source": [
    "stratified_filenames"
   ]
  },
  {
   "cell_type": "code",
   "execution_count": 5,
   "metadata": {},
   "outputs": [],
   "source": [
    "def fit_filename(s):\n",
    "  print(\"Processing \" + s)\n",
    "  num_neg = int(s.split('-')[-3])\n",
    "  train = pd.read_csv(s, header=None, sep=',').values[:,5:].reshape(-1, num_neg+1, 8)\n",
    "  sws = -np.log(train[:,:,0] / train[:,:,1])\n",
    "  Xs = train[:,:,[2,3,5,6,7]]\n",
    "  del train\n",
    "  ys = np.zeros(Xs.shape[0], dtype=int)\n",
    "  Xs = np.concatenate([np.log(Xs + (Xs==0)), 1*(Xs>0)], axis=2)\n",
    "  m = MNLogit(num_threads=64)\n",
    "  m.data(Xs, ys, sws=sws)\n",
    "  del Xs, ys, sws\n",
    "\n",
    "  def show(model, info):\n",
    "    print(\"Iter {} - {:.1f}s, ET: {:.1f}s, Avg Loss: {:.6f}, |H\\\\dw|: {:.6f}, Avg |dw| {:.6f}\"\\\n",
    "        .format(info['num_iter'], info['iter_time'], info['total_time'], info['avg_loss'], info['inc_norm'], info['avg_grad_norm']))\n",
    "\n",
    "  m.fit(max_num_iter=300)\n",
    "  print(\"Done with \" + s)\n",
    "  return m.get_model_info()"
   ]
  },
  {
   "cell_type": "code",
   "execution_count": 6,
   "metadata": {},
   "outputs": [
    {
     "name": "stdout",
     "output_type": "stream",
     "text": [
      "Processing ./1334167200-1342828800-31536000-1.0000-6-2-2\n",
      "Processing ./1334167200-1342828800-31536000-1.0000-12-4-4\n",
      "Processing ./1334167200-1342828800-31536000-1.0000-9-3-3\n",
      "Processing ./1334167200-1342828800-31536000-1.0000-18-6-6\n",
      "Processing ./1334167200-1342828800-31536000-1.0000-36-12-12\n",
      "Processing ./1334167200-1342828800-31536000-1.0000-48-16-16\n",
      "Processing ./1334167200-1342828800-31536000-1.0000-24-8-8\n",
      "Processing ./1334167200-1342828800-31536000-1.0000-72-24-24\n",
      "Processing ./1334167200-1342828800-31536000-1.0000-96-32-32\n",
      "Done with ./1334167200-1342828800-31536000-1.0000-24-8-8\n",
      "Done with ./1334167200-1342828800-31536000-1.0000-9-3-3\n",
      "Done with ./1334167200-1342828800-31536000-1.0000-12-4-4\n",
      "Done with ./1334167200-1342828800-31536000-1.0000-18-6-6\n",
      "Done with ./1334167200-1342828800-31536000-1.0000-36-12-12\n",
      "Done with ./1334167200-1342828800-31536000-1.0000-6-2-2\n",
      "Done with ./1334167200-1342828800-31536000-1.0000-48-16-16\n",
      "Done with ./1334167200-1342828800-31536000-1.0000-72-24-24\n",
      "Done with ./1334167200-1342828800-31536000-1.0000-96-32-32\n"
     ]
    }
   ],
   "source": [
    "from multiprocessing import Pool\n",
    "with Pool(9) as p:\n",
    "  stratified_results = p.map(fit_filename, stratified_filenames)"
   ]
  },
  {
   "cell_type": "code",
   "execution_count": 7,
   "metadata": {},
   "outputs": [],
   "source": [
    "num_negs = sorted([int(s.split('-')[-3]) for s in stratified_filenames])"
   ]
  },
  {
   "cell_type": "code",
   "execution_count": 8,
   "metadata": {},
   "outputs": [],
   "source": [
    "#col_names = [\"In TXNs\",\"Out TXNs\",\"Unique Friends\",\"Payer to Candidate\",\n",
    "#             \"Candidate to Payer\",\"Friends paid Candidate\"]\n",
    "col_names = [\"In TXNs\",\"Out TXNs\", \"Payer to Candidate\",\n",
    "             \"Candidate to Payer\",\"Friends paid Candidate\"]\n",
    "#col_names = [\"In TXNs\",\"Payer to Candidate\",\"Friends paid Candidate\"]\n",
    "#col_names = [\"In TXNs\"]"
   ]
  },
  {
   "cell_type": "code",
   "execution_count": 9,
   "metadata": {},
   "outputs": [],
   "source": [
    "weights = np.array([sr['weights'] for sr in stratified_results]).T\n",
    "ses = np.array([sr['se'] for sr in stratified_results]).T"
   ]
  },
  {
   "cell_type": "code",
   "execution_count": 10,
   "metadata": {},
   "outputs": [
    {
     "data": {
      "text/plain": [
       "Text(0.5,1,'Stratified, coefficient')"
      ]
     },
     "execution_count": 10,
     "metadata": {},
     "output_type": "execute_result"
    },
    {
     "data": {
      "image/png": "[encoded data removed]",
      "text/plain": [
       "<Figure size 432x288 with 1 Axes>"
      ]
     },
     "metadata": {},
     "output_type": "display_data"
    }
   ],
   "source": [
    "for i in range(5):\n",
    "  plt.errorbar(x=num_negs, y=weights[i], yerr=ses[i], label='Log ' + col_names[i])\n",
    "\n",
    "plt.xscale('log')\n",
    "ticks = [6,9,12,18,24,36,48,72,96]\n",
    "plt.xticks(ticks, ticks)\n",
    "plt.ylim(-1,4)\n",
    "plt.grid()\n",
    "plt.legend(bbox_to_anchor=(1.0, 1.0))\n",
    "plt.title('Stratified, coefficient')"
   ]
  },
  {
   "cell_type": "code",
   "execution_count": 12,
   "metadata": {},
   "outputs": [
    {
     "data": {
      "text/plain": [
       "Text(0.5,1,'Stratified, coefficient')"
      ]
     },
     "execution_count": 12,
     "metadata": {},
     "output_type": "execute_result"
    },
    {
     "data": {
      "image/png": "[encoded data removed]",
      "text/plain": [
       "<Figure size 432x288 with 1 Axes>"
      ]
     },
     "metadata": {},
     "output_type": "display_data"
    }
   ],
   "source": [
    "for i in range(5,10):\n",
    "  plt.errorbar(x=num_negs, y=weights[i], yerr=ses[i], label='1[' + col_names[i%5] + ' > 0]')\n",
    "\n",
    "plt.xscale('log')\n",
    "ticks = [6,9,12,18,24,36,48,72,96]\n",
    "plt.xticks(ticks, ticks)\n",
    "plt.grid()\n",
    "plt.legend(bbox_to_anchor=(1.0, 1.0))\n",
    "plt.title('Stratified, coefficient')"
   ]
  },
  {
   "cell_type": "code",
   "execution_count": 13,
   "metadata": {},
   "outputs": [
    {
     "data": {
      "text/plain": [
       "Text(0.5,1,'Stratified, S.E.')"
      ]
     },
     "execution_count": 13,
     "metadata": {},
     "output_type": "execute_result"
    },
    {
     "data": {
      "image/png": "[encoded data removed]",
      "text/plain": [
       "<Figure size 432x288 with 1 Axes>"
      ]
     },
     "metadata": {},
     "output_type": "display_data"
    }
   ],
   "source": [
    "for i in range(5):\n",
    "  plt.plot(num_negs, ses[i], label='S.E. Log ' + col_names[i%6])\n",
    "\n",
    "plt.xscale('log')\n",
    "ticks = [6,9,12,18,24,36,48,72,96]\n",
    "plt.xticks(ticks, ticks)\n",
    "plt.grid()\n",
    "plt.legend(bbox_to_anchor=(1.0, 1.0))\n",
    "plt.title('Stratified, S.E.')"
   ]
  },
  {
   "cell_type": "code",
   "execution_count": 14,
   "metadata": {},
   "outputs": [
    {
     "data": {
      "text/plain": [
       "Text(0.5,1,'Stratified, S.E.')"
      ]
     },
     "execution_count": 14,
     "metadata": {},
     "output_type": "execute_result"
    },
    {
     "data": {
      "image/png": "[encoded data removed]",
      "text/plain": [
       "<Figure size 432x288 with 1 Axes>"
      ]
     },
     "metadata": {},
     "output_type": "display_data"
    }
   ],
   "source": [
    "for i in range(5,10):\n",
    "  plt.plot(num_negs, ses[i], label='S.E. Log ' + col_names[i%5])\n",
    "\n",
    "plt.xscale('log')\n",
    "plt.yscale('log')\n",
    "ticks = [6,9,12,18,24,36,48,72,96]\n",
    "plt.ylim(0.001,2)\n",
    "plt.xticks(ticks, ticks)\n",
    "plt.grid()\n",
    "plt.legend(bbox_to_anchor=(1.0, 1.0))\n",
    "plt.title('Stratified, S.E.')"
   ]
  },
  {
   "cell_type": "code",
   "execution_count": null,
   "metadata": {},
   "outputs": [],
   "source": [
    "for i in range(1,2):\n",
    "  plt.plot(num_negs, ses[i], label='S.E. 1[' + col_names[i%1] + ' > 0]')\n",
    "\n",
    "plt.xscale('log')\n",
    "ticks = [6,9,12,18,24,36,48,72,96]\n",
    "plt.xticks(ticks, ticks)\n",
    "plt.grid()\n",
    "plt.legend(bbox_to_anchor=(1.0, 1.0))\n",
    "plt.title('Stratified, S.E.')"
   ]
  },
  {
   "cell_type": "code",
   "execution_count": null,
   "metadata": {},
   "outputs": [],
   "source": [
    "for i in range(3,6):\n",
    "  plt.plot(num_negs, ses[i], label='S.E. Log ' + col_names[i%6])\n",
    "\n",
    "plt.xscale('log')\n",
    "plt.yscale('log')\n",
    "ticks = [6,9,12,18,24,36,48,72,96]\n",
    "plt.ylim(0.001,2)\n",
    "plt.xticks(ticks, ticks)\n",
    "plt.grid()\n",
    "plt.legend(bbox_to_anchor=(1.0, 1.0))\n",
    "plt.title('Stratified, S.E.')"
   ]
  },
  {
   "cell_type": "markdown",
   "metadata": {},
   "source": [
    "__Note__\n",
    "\n",
    "Feature 2 : In-degree (number of transactions in)\n",
    "\n",
    "Feature 3 : Out-degree (number of transactions out)\n",
    "\n",
    "Feature 4 : Number of unique friends\n",
    "\n",
    "Feature 5 : Payer-to-candidates transactions count\n",
    "\n",
    "Feature 6 : Candidates-to-payer transactions count\n",
    "\n",
    "Feature 7 : Number of payer's friend that paid each candidate"
   ]
  },
  {
   "cell_type": "markdown",
   "metadata": {},
   "source": [
    "__Note 2__ Before running the experiments, ensure that there are at least one positive example and one negative example in every bin."
   ]
  },
  {
   "cell_type": "code",
   "execution_count": null,
   "metadata": {},
   "outputs": [],
   "source": [
    "feature = 2\n",
    "num_bins = 50"
   ]
  },
  {
   "cell_type": "code",
   "execution_count": null,
   "metadata": {},
   "outputs": [],
   "source": [
    "count, _, _ = plt.hist(train[:,0,feature], bins=np.concatenate([np.arange(-0.5,num_bins+.5, 1)]))\n",
    "plt.yscale('log')\n",
    "print(\"Smallest bin size: {}\".format(min(count)))\n",
    "print(\"Data used: {}%\".format(100 * sum(count) / train.shape[0]))"
   ]
  },
  {
   "cell_type": "code",
   "execution_count": null,
   "metadata": {},
   "outputs": [],
   "source": [
    "count, _, _ = plt.hist(train[:,1:,feature].reshape(-1), bins=np.arange(-0.5, num_bins+.5, 1))\n",
    "plt.yscale('log')\n",
    "print(\"Smallest bin size: {}\".format(min(count)))\n",
    "print(\"Data used: {}%\".format(100 * sum(count) / train.shape[0] / (train.shape[1] - 1)))"
   ]
  },
  {
   "cell_type": "markdown",
   "metadata": {},
   "source": [
    "### 4a. Preprocess the data and implement the plot function"
   ]
  },
  {
   "cell_type": "code",
   "execution_count": null,
   "metadata": {},
   "outputs": [],
   "source": [
    "def onehot(x, cap=50):\n",
    "  ncols = min(cap+1, x.max()+1)\n",
    "  a = np.minimum(x, cap)\n",
    "  out = np.zeros( (a.size,ncols), dtype=np.float)\n",
    "  out[np.arange(a.size),a.ravel()] = 1\n",
    "  out.shape = a.shape + (ncols,)\n",
    "  return out[...,:-1]"
   ]
  },
  {
   "cell_type": "code",
   "execution_count": null,
   "metadata": {},
   "outputs": [],
   "source": [
    "from scipy.stats import linregress\n",
    "\n",
    "def plot_weight(m, info, feature_name='<feature_name>'):\n",
    "  clear_output(wait=True)\n",
    "  plt.figure(figsize=(7,5))\n",
    "  plot_range = np.arange(0,50).astype(float)\n",
    "  plot_range[0] = 0.5\n",
    "  lr = linregress(np.log(np.arange(1,20)), m.w.numpy()[1:20])\n",
    "  plt.plot(plot_range, lr.slope * np.log(plot_range) + lr.intercept, 'r-', linewidth=0.9, label=\"slope = {:.4f}\".format(lr.slope))\n",
    "  plt.plot(plot_range, m.w.numpy(), 'kx')\n",
    "  plt.errorbar(x=plot_range, y=m.w.numpy(), yerr=0 if info['se'] is None else info['se'], color='k', ls='none')\n",
    "  plt.xscale('log')\n",
    "  plt.title(\"Relative coefficients for each bin (by the {})\".format(feature_name))\n",
    "  plt.xlabel(feature_name)\n",
    "  plt.xlim(0.4,60)\n",
    "  # plt.ylim(-4.5,0.5)\n",
    "  ticks = [1,2,3,4,5,6,8,10,15,20,30,40,50]\n",
    "  plt.xticks([0.5]+ticks, [0]+ticks)\n",
    "  plt.grid()\n",
    "  plt.legend()\n",
    "  print(\"Iter {} - {:.1f}s, ET: {:.1f}s, Avg Loss: {:.6f}, |H\\\\dw|: {:.6f}, Avg |dw| {:.6f}\"\\\n",
    "        .format(info['num_iter'], info['iter_time'], info['total_time'], info['avg_loss'], info['inc_norm'], info['avg_grad_norm']))\n",
    "\n",
    "  plt.show();"
   ]
  },
  {
   "cell_type": "markdown",
   "metadata": {},
   "source": [
    "### 4b. Fit the 6 single-feature models (50 bins)"
   ]
  },
  {
   "cell_type": "code",
   "execution_count": null,
   "metadata": {},
   "outputs": [],
   "source": [
    "Xs_onehot = onehot(train[:,:,2], cap=50)\n",
    "m = MNLogit()\n",
    "m.data(Xs_onehot, ys, sws=sws)\n",
    "m.fit(max_num_iter=500, verbose_function=lambda x,y: plot_weight(x,y,feature_name='Number of In-transactions'))"
   ]
  },
  {
   "cell_type": "code",
   "execution_count": null,
   "metadata": {},
   "outputs": [],
   "source": [
    "m.eval(Xs_onehot, ys)"
   ]
  },
  {
   "cell_type": "code",
   "execution_count": null,
   "metadata": {},
   "outputs": [],
   "source": [
    "Xs_onehot = onehot(train[:,:,3], cap=50)\n",
    "m = MNLogit()\n",
    "m.data(Xs_onehot, ys, sws=sws)\n",
    "m.fit(max_num_iter=500, verbose_function=lambda x,y: plot_weight(x,y,feature_name='Number of Out-transactions'))"
   ]
  },
  {
   "cell_type": "code",
   "execution_count": null,
   "metadata": {},
   "outputs": [],
   "source": [
    "m.eval(Xs_onehot, ys)"
   ]
  },
  {
   "cell_type": "code",
   "execution_count": null,
   "metadata": {},
   "outputs": [],
   "source": [
    "Xs_onehot = onehot(train[:,:,4], cap=50)\n",
    "m = MNLogit()\n",
    "m.data(Xs_onehot, ys, sws=sws)\n",
    "m.fit(max_num_iter=500, verbose_function=lambda x,y: plot_weight(x,y,feature_name='Number of unique friends'))"
   ]
  },
  {
   "cell_type": "code",
   "execution_count": null,
   "metadata": {},
   "outputs": [],
   "source": [
    "m.eval(Xs_onehot, ys)"
   ]
  },
  {
   "cell_type": "code",
   "execution_count": null,
   "metadata": {},
   "outputs": [],
   "source": [
    "Xs_onehot = onehot(train[:,:,5], cap=50)\n",
    "m = MNLogit()\n",
    "m.data(Xs_onehot, ys, sws=sws)\n",
    "m.fit(max_num_iter=500, verbose_function=lambda x,y: plot_weight(x,y,feature_name='Number of prev. txns, Payer to Candidate'))"
   ]
  },
  {
   "cell_type": "code",
   "execution_count": null,
   "metadata": {},
   "outputs": [],
   "source": [
    "m.eval(Xs_onehot, ys)"
   ]
  },
  {
   "cell_type": "code",
   "execution_count": null,
   "metadata": {},
   "outputs": [],
   "source": [
    "Xs_onehot = onehot(train[:,:,6], cap=50)\n",
    "m = MNLogit()\n",
    "m.data(Xs_onehot, ys, sws=sws)\n",
    "m.fit(max_num_iter=500, verbose_function=lambda x,y: plot_weight(x,y,feature_name='Number of prev. transactions, Candidate to Payer'))"
   ]
  },
  {
   "cell_type": "code",
   "execution_count": null,
   "metadata": {},
   "outputs": [],
   "source": [
    "m.eval(Xs_onehot, ys)"
   ]
  },
  {
   "cell_type": "code",
   "execution_count": null,
   "metadata": {},
   "outputs": [],
   "source": [
    "Xs_onehot = onehot(train[:,:,7], cap=50)\n",
    "m = MNLogit()\n",
    "m.data(Xs_onehot, ys, sws=sws)\n",
    "m.fit(max_num_iter=500, verbose_function=lambda x,y: plot_weight(x,y,feature_name='Number of unique friends who have paid the candidate'))"
   ]
  },
  {
   "cell_type": "code",
   "execution_count": null,
   "metadata": {},
   "outputs": [],
   "source": [
    "m.eval(Xs_onehot, ys)"
   ]
  },
  {
   "cell_type": "markdown",
   "metadata": {},
   "source": [
    "### 4c. Fitting all 6 features simultaneously (= 300 columns)"
   ]
  },
  {
   "cell_type": "code",
   "execution_count": null,
   "metadata": {},
   "outputs": [],
   "source": [
    "Xs_onehot = np.concatenate([onehot(train[:,:,2], cap=50), onehot(train[:,:,3], cap=50),\n",
    "                            onehot(train[:,:,4], cap=50), onehot(train[:,:,5], cap=50),\n",
    "                            onehot(train[:,:,6], cap=50), onehot(train[:,:,7], cap=50)], axis=2).astype(float)"
   ]
  },
  {
   "cell_type": "code",
   "execution_count": null,
   "metadata": {},
   "outputs": [],
   "source": [
    "def plot_weight6(m, info):\n",
    "  clear_output(wait=True)\n",
    "  plt.figure(figsize=(7,5))\n",
    "  labels = ['InDeg', 'OutDeg', 'UniqFriends', 'Payer2Candidate', 'Candidate2Payer','UniqFriendsPaidCandidate']\n",
    "  plot_range = np.arange(0,50).astype(float)\n",
    "  plot_range[0] = 0.5\n",
    "  for i in range(6):\n",
    "    plt.errorbar(x=plot_range,\\\n",
    "                 y=m.w.numpy()[50*i:50*i+50],\\\n",
    "                 yerr=0 if info['se'] is None else info['se'][50*i:50*i+50],\n",
    "                 label=labels[i])\n",
    "  plt.xscale('log')\n",
    "  plt.title(\"Relative coefficients for each bin\")\n",
    "  plt.xlabel(\"Feature value\")\n",
    "  plt.xlim(0.4,60)\n",
    "  plt.ylim(-4.2,1.2)\n",
    "  ticks = [1,2,3,4,5,6,8,10,15,20,30,40,50]\n",
    "  plt.xticks([0.5] + ticks, [0] + ticks)\n",
    "  plt.grid()\n",
    "  plt.legend()\n",
    "  print(\"Iter {} - {:.1f}s, ET: {:.1f}s, Avg Loss: {:.6f}, |H\\\\dw|: {:.6f}, Avg |dw| {:.6f}\"\\\n",
    "        .format(info['num_iter'], info['iter_time'], info['total_time'], info['avg_loss'], info['inc_norm'], info['avg_grad_norm']))\n",
    "\n",
    "  plt.show();"
   ]
  },
  {
   "cell_type": "code",
   "execution_count": null,
   "metadata": {},
   "outputs": [],
   "source": [
    "m = MNLogit()\n",
    "m.data(Xs_onehot, ys, sws=sws)\n",
    "m.fit(max_num_iter=500, verbose_function=plot_weight6)"
   ]
  },
  {
   "cell_type": "code",
   "execution_count": null,
   "metadata": {},
   "outputs": [],
   "source": [
    "from scipy.stats import linregress\n",
    "linregress(np.log(np.arange(1,50)), m.w.numpy()[151:200])"
   ]
  },
  {
   "cell_type": "code",
   "execution_count": null,
   "metadata": {},
   "outputs": [],
   "source": [
    "m.eval(Xs_onehot, ys)"
   ]
  },
  {
   "cell_type": "code",
   "execution_count": null,
   "metadata": {},
   "outputs": [],
   "source": [
    "del Xs_onehot\n",
    "del m"
   ]
  },
  {
   "cell_type": "markdown",
   "metadata": {},
   "source": [
    "### Note on results\n",
    "As discussed before, 5 out of 6 single-feature non-parametric model very strongly suggest the given function form (linear on log and zero indicator). However, when we fit the non-parametric models for different feature simultaneously (by concatenating columns), we can see that there are just one feature that actually is linear with $\\log (x)$, the `Payer-to-candidate transaction count`."
   ]
  },
  {
   "cell_type": "markdown",
   "metadata": {},
   "source": [
    "### 4d. Joint non-parametric model"
   ]
  },
  {
   "cell_type": "markdown",
   "metadata": {},
   "source": [
    "We want to see if the features have direct interactions with one another. In this experiment, we consider two features (`Payer-to-candidate transaction count` and `Number of unique friends who paid the candidate` (i.e. \"mutual friends\")). We put the candidates into 20x20 (=400) bins and fit a non-parametric model with 400 parameters to see the joint function form of the parameters."
   ]
  },
  {
   "cell_type": "code",
   "execution_count": null,
   "metadata": {},
   "outputs": [],
   "source": [
    "def flatten_nonparametric(n1, n2, num_bins):\n",
    "  counted = np.logical_and(n1 < num_bins, n2 < num_bins)\n",
    "  return n1*counted*num_bins + n2*counted + num_bins*num_bins*(1-counted)"
   ]
  },
  {
   "cell_type": "markdown",
   "metadata": {},
   "source": [
    "#### Ensure non-zero bin sizes"
   ]
  },
  {
   "cell_type": "code",
   "execution_count": null,
   "metadata": {},
   "outputs": [],
   "source": [
    "count, _, _ = plt.hist(flatten_nonparametric(train[:,0,5], train[:,0,7], 20), bins=np.concatenate([np.arange(-0.5,401+.5, 1)]))\n",
    "plt.yscale('log')\n",
    "print(\"Smallest bin size: {}\".format(min(count)))\n",
    "print(\"Data used: {:.2f}%\".format(100 * sum(count[:-1]) / train.shape[0]))"
   ]
  },
  {
   "cell_type": "code",
   "execution_count": null,
   "metadata": {},
   "outputs": [],
   "source": [
    "count, _, _ = plt.hist(flatten_nonparametric(train[:,1:,5], train[:,1:,7], 20).reshape(-1), bins=np.concatenate([np.arange(-0.5,401+.5, 1)]))\n",
    "plt.yscale('log')\n",
    "print(\"Smallest bin size: {}\".format(min(count)))\n",
    "print(\"Data used: {:.2f}%\".format(100 * sum(count[:-1]) / train.shape[0] / (train.shape[1] - 1)))"
   ]
  },
  {
   "cell_type": "code",
   "execution_count": null,
   "metadata": {},
   "outputs": [],
   "source": [
    "Xs_onehot = onehot(flatten_nonparametric(train[:,:,5], train[:,:,7], 20), cap=400)"
   ]
  },
  {
   "cell_type": "code",
   "execution_count": null,
   "metadata": {},
   "outputs": [],
   "source": [
    "m = MNLogit()\n",
    "m.data(Xs_onehot, ys, sws=sws)\n",
    "m.fit(max_num_iter=500, verbose_function=show)"
   ]
  },
  {
   "cell_type": "code",
   "execution_count": null,
   "metadata": {},
   "outputs": [],
   "source": [
    "m.eval(Xs_onehot, ys)"
   ]
  },
  {
   "cell_type": "code",
   "execution_count": null,
   "metadata": {},
   "outputs": [],
   "source": [
    "m = m.get_model_info()\n",
    "m['weights'].shape = (20,20)"
   ]
  },
  {
   "cell_type": "code",
   "execution_count": null,
   "metadata": {},
   "outputs": [],
   "source": [
    "del Xs_onehot"
   ]
  },
  {
   "cell_type": "markdown",
   "metadata": {},
   "source": [
    "### 4e. Plot the 400 weights\n",
    "__I.__ 20 lines plot, each line for different `Numbers of friends who have paid the candidate` \n",
    "  * __x-axis__ is `Number of previous transactions (Payer ==> candidates)`\n",
    "\n",
    "__II.__ ^ x log scale, excludes 0\n",
    "\n",
    "__III.__ 20 lines plot, each line for different `Number of previous transactions (Payer ==> candidates)`\n",
    "  * __x-axis__ is `Number of friends who have paid the candidate`\n",
    "\n",
    "__IV.__ ^ zoomed in for the upper part\n",
    "\n",
    "__V.__ ^ x log scale, excludes 0\n",
    "\n",
    "__VI.__ Contour plot where color = coefficient \n",
    "  * __x-axis__ is `Number of friends who have paid the candidate`\n",
    "  * __y-axis__ is `Number of previous transactions (Payer ==> candidates)`, both exclude 0.\n",
    "\n",
    "__VII.__ y log scale\n",
    "\n",
    "__VIII.__ ^ log-log"
   ]
  },
  {
   "cell_type": "code",
   "execution_count": null,
   "metadata": {},
   "outputs": [],
   "source": [
    "for i in range(20):\n",
    "  colorcode = hex(256 * (256 * (255 * i // 20) + (170 * i // 20)))[2:]\n",
    "  colorcode = '0'*(6-len(colorcode)) + colorcode\n",
    "  plt.plot(m['weights'][:,i],\\\n",
    "           color='#{}'.format(colorcode), linewidth=1)\n",
    "plt.xticks(range(20),range(20))\n",
    "plt.grid()\n",
    "plt.xlabel(\"Number of previous transactions (Payer ==> candidates)\")"
   ]
  },
  {
   "cell_type": "code",
   "execution_count": null,
   "metadata": {},
   "outputs": [],
   "source": [
    "plt.figure(figsize=(10,10))\n",
    "for i in range(20):\n",
    "  colorcode = hex(256 * (256 * (255 * i // 20) + (170 * i // 20)))[2:]\n",
    "  colorcode = '0'*(6-len(colorcode)) + colorcode\n",
    "  plt.plot(m['weights'][:,i],\\\n",
    "           color='#{}'.format(colorcode))\n",
    "plt.xscale('log')\n",
    "plt.ylim(-4,0.5)\n",
    "plt.xticks(range(1,20),range(1,20))\n",
    "plt.grid()\n",
    "plt.xlabel(\"Number of previous transactions (Payer ==> candidates)\")"
   ]
  },
  {
   "cell_type": "code",
   "execution_count": null,
   "metadata": {},
   "outputs": [],
   "source": [
    "for i in range(20):\n",
    "  colorcode = hex(256 * (256 * (255 * i // 20) + (170 * i // 20)))[2:]\n",
    "  colorcode = '0'*(6-len(colorcode)) + colorcode\n",
    "  plt.plot(m['weights'][i,:],\\\n",
    "           color='#{}'.format(colorcode), linewidth=1)\n",
    "plt.xticks(range(20),range(20))\n",
    "plt.grid()\n",
    "plt.xlabel(\"Number of friends who have paid the candidate\")"
   ]
  },
  {
   "cell_type": "code",
   "execution_count": null,
   "metadata": {},
   "outputs": [],
   "source": [
    "plt.figure(figsize=(6,12))\n",
    "for i in range(20):\n",
    "  colorcode = hex(256 * (256 * (255 * i // 20) + (170 * i // 20)))[2:]\n",
    "  colorcode = '0'*(6-len(colorcode)) + colorcode\n",
    "  plt.plot(m['weights'][i,:],\\\n",
    "           color='#{}'.format(colorcode))\n",
    "plt.ylim(-4,0.5)\n",
    "plt.xticks(range(1,20),range(1,20))\n",
    "plt.grid()\n",
    "plt.xlabel(\"Number of friends who have paid the candidate\")"
   ]
  },
  {
   "cell_type": "code",
   "execution_count": null,
   "metadata": {},
   "outputs": [],
   "source": [
    "plt.figure(figsize=(8,8))\n",
    "for i in range(20):\n",
    "  colorcode = hex(256 * (256 * (255 * i // 20) + (170 * i // 20)))[2:]\n",
    "  colorcode = '0'*(6-len(colorcode)) + colorcode\n",
    "  plt.plot(m['weights'][i,:],\\\n",
    "           color='#{}'.format(colorcode))\n",
    "plt.xscale('log')\n",
    "plt.ylim(-4,0.5)\n",
    "plt.xticks(range(1,20),range(1,20))\n",
    "plt.grid()\n",
    "plt.xlabel(\"Number of friends who have paid the candidate\")"
   ]
  },
  {
   "cell_type": "code",
   "execution_count": null,
   "metadata": {},
   "outputs": [],
   "source": [
    "plt.figure(figsize=(8,8))\n",
    "plt.contourf(m['weights'][1:,1:], levels=np.arange(-4,0.8,0.2))\n",
    "plt.ylim(1,19)\n",
    "plt.xlabel(\"Number of friends who have paid the candidate\")\n",
    "plt.ylabel(\"Number of previous transactions (Payer ==> candidates)\")\n",
    "plt.yticks(range(1,20), range(1,20))"
   ]
  },
  {
   "cell_type": "code",
   "execution_count": null,
   "metadata": {},
   "outputs": [],
   "source": [
    "plt.figure(figsize=(8,8))\n",
    "plt.contourf(m['weights'][1:,1:], levels=np.arange(-4,0.8,0.2))\n",
    "plt.yscale('log')\n",
    "plt.ylim(1,19)\n",
    "plt.xlabel(\"Number of friends who have paid the candidate\")\n",
    "plt.ylabel(\"Number of previous transactions (Payer ==> candidates)\")\n",
    "plt.yticks(range(1,20), range(1,20))"
   ]
  },
  {
   "cell_type": "code",
   "execution_count": null,
   "metadata": {},
   "outputs": [],
   "source": [
    "plt.figure(figsize=(8,8))\n",
    "plt.contourf(m['weights'][1:,1:], levels=np.arange(-4,0.8,0.2))\n",
    "plt.xlim(1,19)\n",
    "plt.ylim(1,19)\n",
    "plt.xscale('log')\n",
    "plt.yscale('log')\n",
    "plt.xlabel(\"Number of friends who have paid the candidate\")\n",
    "plt.ylabel(\"Number of previous transactions (Payer ==> candidates)\")\n",
    "plt.xticks(range(1,20), range(1,20))\n",
    "plt.yticks(range(1,20), range(1,20))"
   ]
  }
 ],
 "metadata": {
  "kernelspec": {
   "display_name": "Python 3",
   "language": "python",
   "name": "python3"
  },
  "language_info": {
   "codemirror_mode": {
    "name": "ipython",
    "version": 3
   },
   "file_extension": ".py",
   "mimetype": "text/x-python",
   "name": "python",
   "nbconvert_exporter": "python",
   "pygments_lexer": "ipython3",
   "version": "3.5.2"
  }
 },
 "nbformat": 4,
 "nbformat_minor": 2
}
