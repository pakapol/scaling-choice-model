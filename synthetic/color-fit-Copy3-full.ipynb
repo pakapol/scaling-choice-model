{
 "cells": [
  {
   "cell_type": "markdown",
   "metadata": {},
   "source": [
    "# Random graph experiments I: Color"
   ]
  },
  {
   "cell_type": "markdown",
   "metadata": {},
   "source": [
    "## Graph and data generation module ##"
   ]
  },
  {
   "cell_type": "code",
   "execution_count": 1,
   "metadata": {},
   "outputs": [],
   "source": [
    "import os\n",
    "os.environ[\"OMP_NUM_THREADS\"] = \"1\" # export OMP_NUM_THREADS=4\n",
    "os.environ[\"OPENBLAS_NUM_THREADS\"] = \"1\" # export OPENBLAS_NUM_THREADS=4 \n",
    "os.environ[\"VECLIB_MAXIMUM_THREADS\"] = \"1\" # export VECLIB_MAXIMUM_THREADS=4"
   ]
  },
  {
   "cell_type": "code",
   "execution_count": 2,
   "metadata": {},
   "outputs": [],
   "source": [
    "import sys, time, random\n",
    "import numpy as np\n",
    "from model.MNLogit_bfgs_torch import MNLogit"
   ]
  },
  {
   "cell_type": "code",
   "execution_count": 5,
   "metadata": {},
   "outputs": [],
   "source": [
    "filenames = sorted([name for name in os.listdir('features-fitness') if len(name.split('&')) > 3 and 'FULL' in name])"
   ]
  },
  {
   "cell_type": "code",
   "execution_count": 6,
   "metadata": {},
   "outputs": [
    {
     "data": {
      "text/plain": [
       "['FULL&nodes=1.0e+05&er_edges=5.0e+05&choice_edges=2.0e+04&color_ratio=1.0e-01&checkpoint=1.00&time=2019-08-03T04:10:11&seed=QBQR1G.npz&extract_time=2019-08-12T23:53:34.npz',\n",
       " 'FULL&nodes=1.0e+05&er_edges=5.0e+05&choice_edges=2.0e+04&color_ratio=1.0e-02&checkpoint=1.00&time=2019-08-03T04:05:24&seed=12URDV0.npz&extract_time=2019-08-12T23:53:27.npz',\n",
       " 'FULL&nodes=1.0e+05&er_edges=5.0e+05&choice_edges=2.0e+04&color_ratio=1.0e-03&checkpoint=1.00&time=2019-08-03T04:10:15&seed=7UU4YX.npz&extract_time=2019-08-12T23:55:38.npz',\n",
       " 'FULL&nodes=1.0e+05&er_edges=5.0e+05&choice_edges=2.0e+04&color_ratio=1.0e-04&checkpoint=1.00&time=2019-08-03T04:05:24&seed=1HSTEW3.npz&extract_time=2019-08-12T22:21:46.npz',\n",
       " 'FULL&nodes=1.0e+05&er_edges=5.0e+05&choice_edges=2.0e+04&color_ratio=2.0e-01&checkpoint=1.00&time=2019-08-03T04:05:23&seed=1X20RE4.npz&extract_time=2019-08-12T23:53:22.npz',\n",
       " 'FULL&nodes=1.0e+05&er_edges=5.0e+05&choice_edges=2.0e+04&color_ratio=2.0e-02&checkpoint=1.00&time=2019-08-03T04:10:14&seed=1PO6YL4.npz&extract_time=2019-08-12T23:53:53.npz',\n",
       " 'FULL&nodes=1.0e+05&er_edges=5.0e+05&choice_edges=2.0e+04&color_ratio=2.0e-03&checkpoint=1.00&time=2019-08-03T04:05:23&seed=1KJO1DB.npz&extract_time=2019-08-12T23:53:28.npz',\n",
       " 'FULL&nodes=1.0e+05&er_edges=5.0e+05&choice_edges=2.0e+04&color_ratio=2.0e-04&checkpoint=1.00&time=2019-08-03T04:10:11&seed=1YSNB2C.npz&extract_time=2019-08-12T23:53:49.npz',\n",
       " 'FULL&nodes=1.0e+05&er_edges=5.0e+05&choice_edges=2.0e+04&color_ratio=5.0e-01&checkpoint=1.00&time=2019-08-03T04:10:08&seed=VFAH4X.npz&extract_time=2019-08-13T01:06:11.npz',\n",
       " 'FULL&nodes=1.0e+05&er_edges=5.0e+05&choice_edges=2.0e+04&color_ratio=5.0e-02&checkpoint=1.00&time=2019-08-03T04:05:23&seed=1A1003M.npz&extract_time=2019-08-13T01:05:51.npz',\n",
       " 'FULL&nodes=1.0e+05&er_edges=5.0e+05&choice_edges=2.0e+04&color_ratio=5.0e-03&checkpoint=1.00&time=2019-08-03T04:10:11&seed=6BC6TP.npz&extract_time=2019-08-13T01:08:28.npz',\n",
       " 'FULL&nodes=1.0e+05&er_edges=5.0e+05&choice_edges=2.0e+04&color_ratio=5.0e-04&checkpoint=1.00&time=2019-08-03T04:05:25&seed=5NLC4Z.npz&extract_time=2019-08-13T01:09:02.npz']"
      ]
     },
     "execution_count": 6,
     "metadata": {},
     "output_type": "execute_result"
    }
   ],
   "source": [
    "filenames"
   ]
  },
  {
   "cell_type": "code",
   "execution_count": 7,
   "metadata": {},
   "outputs": [],
   "source": [
    "def fit(kwargs, num_threads=16):\n",
    "  dataset_id = kwargs['id']\n",
    "  sampling = kwargs['sampling']\n",
    "  c = sampling[0]\n",
    "  dat = np.load('features-fitness/' + filenames[dataset_id])\n",
    "  results = {'results':[]}\n",
    "  results['dataset'] = {s.split('=')[0]:s.split('=')[1] for s in filenames[dataset_id].replace('.npz','').split('&')[1:]}\n",
    "  results['dataset']['sampling'] = sampling\n",
    "  \n",
    "  for i in range(1):\n",
    "    m = MNLogit(num_threads)\n",
    "    m.data(dat['Xs_'+c][i], dat['ys_'+c][i], sws=dat['sws_'+c][i])\n",
    "    m.fit(max_num_iter=500, clip=1.0, clip_norm_ord=2)\n",
    "    info = m.get_model_info()\n",
    "    info['se'] = list(info['se'])\n",
    "    info['weights'] = list(info['weights'])\n",
    "    results['results'].append(info)\n",
    "    \n",
    "  print(\"Dataset {},{} done\".format(dataset_id,sampling))\n",
    "  return results"
   ]
  },
  {
   "cell_type": "code",
   "execution_count": 9,
   "metadata": {},
   "outputs": [
    {
     "name": "stdout",
     "output_type": "stream",
     "text": [
      "Dataset 2,uniform done\n",
      "Dataset 0,uniform done\n",
      "Dataset 1,uniform done\n",
      "Dataset 3,uniform done\n",
      "Dataset 4,uniform done\n",
      "Dataset 5,uniform done\n",
      "Dataset 6,uniform done\n",
      "Dataset 7,uniform done\n",
      "Dataset 8,uniform done\n",
      "Dataset 10,uniform done\n",
      "Dataset 9,uniform done\n",
      "Dataset 11,uniform done\n"
     ]
    }
   ],
   "source": [
    "from multiprocessing import Pool\n",
    "from itertools import product\n",
    "args = [{'id':i, 'sampling':s} for i,s in product(range(12), ['uniform'])]\n",
    "with Pool(4) as p:\n",
    "  x = p.map(fit, args)"
   ]
  },
  {
   "cell_type": "code",
   "execution_count": 10,
   "metadata": {},
   "outputs": [
    {
     "data": {
      "text/plain": [
       "[{'dataset': {'checkpoint': '1.00',\n",
       "   'choice_edges': '2.0e+04',\n",
       "   'color_ratio': '1.0e-01',\n",
       "   'er_edges': '5.0e+05',\n",
       "   'extract_time': '2019-08-12T23:53:34',\n",
       "   'nodes': '1.0e+05',\n",
       "   'sampling': 'uniform',\n",
       "   'seed': 'QBQR1G',\n",
       "   'time': '2019-08-03T04:10:11'},\n",
       "  'results': [{'avg_loss': 10.616915020542102,\n",
       "    'num_iter': 25,\n",
       "    'se': [0.01009304900790987, 0.005100069045224399],\n",
       "    'weights': [1.963151015618758, 0.9978449893068309]}]},\n",
       " {'dataset': {'checkpoint': '1.00',\n",
       "   'choice_edges': '2.0e+04',\n",
       "   'color_ratio': '1.0e-02',\n",
       "   'er_edges': '5.0e+05',\n",
       "   'extract_time': '2019-08-12T23:53:27',\n",
       "   'nodes': '1.0e+05',\n",
       "   'sampling': 'uniform',\n",
       "   'seed': '12URDV0',\n",
       "   'time': '2019-08-03T04:05:24'},\n",
       "  'results': [{'avg_loss': 10.93456919998882,\n",
       "    'num_iter': 25,\n",
       "    'se': [0.019622638153771688, 0.005000659005714443],\n",
       "    'weights': [1.973420683002613, 0.9925549910632095]}]},\n",
       " {'dataset': {'checkpoint': '1.00',\n",
       "   'choice_edges': '2.0e+04',\n",
       "   'color_ratio': '1.0e-03',\n",
       "   'er_edges': '5.0e+05',\n",
       "   'extract_time': '2019-08-12T23:55:38',\n",
       "   'nodes': '1.0e+05',\n",
       "   'sampling': 'uniform',\n",
       "   'seed': '7UU4YX',\n",
       "   'time': '2019-08-03T04:10:15'},\n",
       "  'results': [{'avg_loss': 11.003135495951181,\n",
       "    'num_iter': 26,\n",
       "    'se': [0.06195229872975044, 0.004567163662966664],\n",
       "    'weights': [1.9339559865479565, 0.9949215874613724]}]},\n",
       " {'dataset': {'checkpoint': '1.00',\n",
       "   'choice_edges': '2.0e+04',\n",
       "   'color_ratio': '1.0e-04',\n",
       "   'er_edges': '5.0e+05',\n",
       "   'extract_time': '2019-08-12T22:21:46',\n",
       "   'nodes': '1.0e+05',\n",
       "   'sampling': 'uniform',\n",
       "   'seed': '1HSTEW3',\n",
       "   'time': '2019-08-03T04:05:24'},\n",
       "  'results': [{'avg_loss': 11.013839357651895,\n",
       "    'num_iter': 30,\n",
       "    'se': [0.1518462129262573, 0.005007098405374987],\n",
       "    'weights': [1.939051946511433, 0.9916733596864782]}]},\n",
       " {'dataset': {'checkpoint': '1.00',\n",
       "   'choice_edges': '2.0e+04',\n",
       "   'color_ratio': '2.0e-01',\n",
       "   'er_edges': '5.0e+05',\n",
       "   'extract_time': '2019-08-12T23:53:22',\n",
       "   'nodes': '1.0e+05',\n",
       "   'sampling': 'uniform',\n",
       "   'seed': '1X20RE4',\n",
       "   'time': '2019-08-03T04:05:23'},\n",
       "  'results': [{'avg_loss': 10.572170003168901,\n",
       "    'num_iter': 25,\n",
       "    'se': [0.010349062389541613, 0.005027125141769803],\n",
       "    'weights': [1.9357856713559665, 0.9993106468068285]}]},\n",
       " {'dataset': {'checkpoint': '1.00',\n",
       "   'choice_edges': '2.0e+04',\n",
       "   'color_ratio': '2.0e-02',\n",
       "   'er_edges': '5.0e+05',\n",
       "   'extract_time': '2019-08-12T23:53:53',\n",
       "   'nodes': '1.0e+05',\n",
       "   'sampling': 'uniform',\n",
       "   'seed': '1PO6YL4',\n",
       "   'time': '2019-08-03T04:10:14'},\n",
       "  'results': [{'avg_loss': 10.863034028954656,\n",
       "    'num_iter': 25,\n",
       "    'se': [0.015226233683652866, 0.0049606625990333076],\n",
       "    'weights': [1.9162742063166927, 1.0099243948484926]}]},\n",
       " {'dataset': {'checkpoint': '1.00',\n",
       "   'choice_edges': '2.0e+04',\n",
       "   'color_ratio': '2.0e-03',\n",
       "   'er_edges': '5.0e+05',\n",
       "   'extract_time': '2019-08-12T23:53:28',\n",
       "   'nodes': '1.0e+05',\n",
       "   'sampling': 'uniform',\n",
       "   'seed': '1KJO1DB',\n",
       "   'time': '2019-08-03T04:05:23'},\n",
       "  'results': [{'avg_loss': 10.987205084020035,\n",
       "    'num_iter': 26,\n",
       "    'se': [0.045283107864632764, 0.004955252570940495],\n",
       "    'weights': [1.9356939006876956, 1.0050965571035186]}]},\n",
       " {'dataset': {'checkpoint': '1.00',\n",
       "   'choice_edges': '2.0e+04',\n",
       "   'color_ratio': '2.0e-04',\n",
       "   'er_edges': '5.0e+05',\n",
       "   'extract_time': '2019-08-12T23:53:49',\n",
       "   'nodes': '1.0e+05',\n",
       "   'sampling': 'uniform',\n",
       "   'seed': '1YSNB2C',\n",
       "   'time': '2019-08-03T04:10:11'},\n",
       "  'results': [{'avg_loss': 10.997911266837319,\n",
       "    'num_iter': 26,\n",
       "    'se': [0.11773050641724282, 0.004534287116315305],\n",
       "    'weights': [1.924885047026026, 0.9997634489811387]}]},\n",
       " {'dataset': {'checkpoint': '1.00',\n",
       "   'choice_edges': '2.0e+04',\n",
       "   'color_ratio': '5.0e-01',\n",
       "   'er_edges': '5.0e+05',\n",
       "   'extract_time': '2019-08-13T01:06:11',\n",
       "   'nodes': '1.0e+05',\n",
       "   'sampling': 'uniform',\n",
       "   'seed': 'VFAH4X',\n",
       "   'time': '2019-08-03T04:10:08'},\n",
       "  'results': [{'avg_loss': 10.686789658412602,\n",
       "    'num_iter': 26,\n",
       "    'se': [0.015128674114845506, 0.004803055662365903],\n",
       "    'weights': [1.973413123365809, 0.9964386657218393]}]},\n",
       " {'dataset': {'checkpoint': '1.00',\n",
       "   'choice_edges': '2.0e+04',\n",
       "   'color_ratio': '5.0e-02',\n",
       "   'er_edges': '5.0e+05',\n",
       "   'extract_time': '2019-08-13T01:05:51',\n",
       "   'nodes': '1.0e+05',\n",
       "   'sampling': 'uniform',\n",
       "   'seed': '1A1003M',\n",
       "   'time': '2019-08-03T04:05:23'},\n",
       "  'results': [{'avg_loss': 10.718758858376635,\n",
       "    'num_iter': 25,\n",
       "    'se': [0.011181065531079571, 0.005010444989548614],\n",
       "    'weights': [1.9516114507090832, 1.0007645362862]}]},\n",
       " {'dataset': {'checkpoint': '1.00',\n",
       "   'choice_edges': '2.0e+04',\n",
       "   'color_ratio': '5.0e-03',\n",
       "   'er_edges': '5.0e+05',\n",
       "   'extract_time': '2019-08-13T01:08:28',\n",
       "   'nodes': '1.0e+05',\n",
       "   'sampling': 'uniform',\n",
       "   'seed': '6BC6TP',\n",
       "   'time': '2019-08-03T04:10:11'},\n",
       "  'results': [{'avg_loss': 10.956583844879416,\n",
       "    'num_iter': 25,\n",
       "    'se': [0.02678332917611, 0.004975109124486593],\n",
       "    'weights': [1.9395158979654257, 1.0029677360751557]}]},\n",
       " {'dataset': {'checkpoint': '1.00',\n",
       "   'choice_edges': '2.0e+04',\n",
       "   'color_ratio': '5.0e-04',\n",
       "   'er_edges': '5.0e+05',\n",
       "   'extract_time': '2019-08-13T01:09:02',\n",
       "   'nodes': '1.0e+05',\n",
       "   'sampling': 'uniform',\n",
       "   'seed': '5NLC4Z',\n",
       "   'time': '2019-08-03T04:05:25'},\n",
       "  'results': [{'avg_loss': 11.003940330455627,\n",
       "    'num_iter': 25,\n",
       "    'se': [0.07793313361683049, 0.004970187829910081],\n",
       "    'weights': [2.0480036313768157, 0.9946552951117053]}]}]"
      ]
     },
     "execution_count": 10,
     "metadata": {},
     "output_type": "execute_result"
    }
   ],
   "source": [
    "x"
   ]
  },
  {
   "cell_type": "code",
   "execution_count": 11,
   "metadata": {},
   "outputs": [],
   "source": [
    "import json\n",
    "with open('fitted-synthetic-color-degree-full.json','w') as f:\n",
    "  json.dump(x, f)"
   ]
  },
  {
   "cell_type": "code",
   "execution_count": null,
   "metadata": {},
   "outputs": [],
   "source": [
    "# fit({'id':66, 'sampling':'stratified'}, num_threads=64)"
   ]
  },
  {
   "cell_type": "code",
   "execution_count": null,
   "metadata": {},
   "outputs": [],
   "source": [
    "# import json\n",
    "# with open('fitted-synthetic-color-degree.json','r') as f:\n",
    "#   x = json.load(f)"
   ]
  },
  {
   "cell_type": "code",
   "execution_count": null,
   "metadata": {},
   "outputs": [],
   "source": [
    "from collections import Counter\n",
    "xs = []\n",
    "ys_s = []\n",
    "ys_u = []\n",
    "# np.random.shuffle(x)\n",
    "for d in x:\n",
    "  for i in range(20):\n",
    "    if d['dataset']['sampling'] == 'importance':\n",
    "      xs.append(float(d['dataset']['color_ratio']))\n",
    "      ys_s.append(d['results'][i]['weights'][0])"
   ]
  },
  {
   "cell_type": "code",
   "execution_count": null,
   "metadata": {},
   "outputs": [],
   "source": [
    "import matplotlib.pyplot as plt\n",
    "plt.plot(xs, ys_s, '.', markersize=1)\n",
    "plt.plot([7e-5 ,0.7], [2,2], color='grey', linewidth=0.5)\n",
    "plt.xscale('log')\n",
    "plt.ylim(1,3)\n",
    "plt.title('weight of color, 23pos:1neg, color+fitness, log(N+1/s+1)')"
   ]
  },
  {
   "cell_type": "code",
   "execution_count": null,
   "metadata": {},
   "outputs": [],
   "source": [
    "filename = 'nodes=1.0e+05&er_edges=5.0e+05&choice_edges=2.0e+04&color_ratio=1.0e-02&checkpoint=1.00&time=2019-08-02T14:58:30&seed=NGMCEM.npz&extract_time=2019-08-02T23:28:35'\n",
    "dat = np.load(\"features/{}.npz\".format(filename))"
   ]
  },
  {
   "cell_type": "code",
   "execution_count": null,
   "metadata": {},
   "outputs": [],
   "source": [
    "new_sws = dat['sws_s']"
   ]
  },
  {
   "cell_type": "code",
   "execution_count": null,
   "metadata": {},
   "outputs": [],
   "source": [
    "sampling = 'stratified'\n",
    "c = sampling[0]\n",
    "for i in range(15):\n",
    "  m = MNLogit(num_threads=64)\n",
    "  m.data(dat['Xs_'+c][i], dat['ys_'+c][i], sws=new_sws[i])\n",
    "  m.fit(max_num_iter=500, clip=1.0, clip_norm_ord=2)\n",
    "  print(m.get_model_info())"
   ]
  }
 ],
 "metadata": {
  "kernelspec": {
   "display_name": "Python 3",
   "language": "python",
   "name": "python3"
  },
  "language_info": {
   "codemirror_mode": {
    "name": "ipython",
    "version": 3
   },
   "file_extension": ".py",
   "mimetype": "text/x-python",
   "name": "python",
   "nbconvert_exporter": "python",
   "pygments_lexer": "ipython3",
   "version": "3.5.2"
  }
 },
 "nbformat": 4,
 "nbformat_minor": 2
}
