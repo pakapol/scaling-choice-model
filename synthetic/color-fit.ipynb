{
 "cells": [
  {
   "cell_type": "markdown",
   "metadata": {},
   "source": [
    "# Random graph experiments I: Color"
   ]
  },
  {
   "cell_type": "markdown",
   "metadata": {},
   "source": [
    "## Graph and data generation module ##"
   ]
  },
  {
   "cell_type": "code",
   "execution_count": 22,
   "metadata": {},
   "outputs": [],
   "source": [
    "import os\n",
    "os.environ[\"OMP_NUM_THREADS\"] = \"1\" # export OMP_NUM_THREADS=4\n",
    "os.environ[\"OPENBLAS_NUM_THREADS\"] = \"1\" # export OPENBLAS_NUM_THREADS=4 \n",
    "os.environ[\"VECLIB_MAXIMUM_THREADS\"] = \"1\" # export VECLIB_MAXIMUM_THREADS=4"
   ]
  },
  {
   "cell_type": "code",
   "execution_count": 23,
   "metadata": {},
   "outputs": [],
   "source": [
    "import sys, time, random\n",
    "import numpy as np\n",
    "from model.MNLogit_bfgs_torch import MNLogit"
   ]
  },
  {
   "cell_type": "code",
   "execution_count": 24,
   "metadata": {},
   "outputs": [],
   "source": [
    "filenames = sorted([name for name in os.listdir('features') if len(name.split('&')) > 3])"
   ]
  },
  {
   "cell_type": "code",
   "execution_count": 25,
   "metadata": {},
   "outputs": [
    {
     "data": {
      "text/plain": [
       "['nodes=1.0e+05&er_edges=5.0e+05&choice_edges=2.0e+04&color_ratio=1.0e-02&checkpoint=1.00&time=2019-08-03T01:03:05&seed=FGTTY4.npz&extract_time=2019-08-03T03:32:39.npz',\n",
       " 'nodes=1.0e+05&er_edges=5.0e+05&choice_edges=2.0e+04&color_ratio=1.0e-02&checkpoint=1.00&time=2019-08-03T01:03:05&seed=TVD18I.npz&extract_time=2019-08-03T03:32:03.npz',\n",
       " 'nodes=1.0e+05&er_edges=5.0e+05&choice_edges=2.0e+04&color_ratio=1.0e-02&checkpoint=1.00&time=2019-08-03T01:03:06&seed=16X0AB5.npz&extract_time=2019-08-03T03:32:33.npz',\n",
       " 'nodes=1.0e+05&er_edges=5.0e+05&choice_edges=2.0e+04&color_ratio=1.0e-02&checkpoint=1.00&time=2019-08-03T01:03:06&seed=7DY7Z7.npz&extract_time=2019-08-03T03:32:41.npz',\n",
       " 'nodes=1.0e+05&er_edges=5.0e+05&choice_edges=2.0e+04&color_ratio=1.0e-02&checkpoint=1.00&time=2019-08-03T01:03:16&seed=1L9GFM8.npz&extract_time=2019-08-03T03:32:37.npz',\n",
       " 'nodes=1.0e+05&er_edges=5.0e+05&choice_edges=2.0e+04&color_ratio=1.0e-02&checkpoint=1.00&time=2019-08-03T01:03:19&seed=DH59GB.npz&extract_time=2019-08-03T03:33:03.npz',\n",
       " 'nodes=1.0e+05&er_edges=5.0e+05&choice_edges=2.0e+04&color_ratio=1.0e-02&checkpoint=1.00&time=2019-08-03T01:03:20&seed=102JUJD.npz&extract_time=2019-08-03T03:32:17.npz',\n",
       " 'nodes=1.0e+05&er_edges=5.0e+05&choice_edges=2.0e+04&color_ratio=1.0e-03&checkpoint=1.00&time=2019-08-03T01:03:04&seed=F1VPUJ.npz&extract_time=2019-08-03T03:28:13.npz',\n",
       " 'nodes=1.0e+05&er_edges=5.0e+05&choice_edges=2.0e+04&color_ratio=1.0e-03&checkpoint=1.00&time=2019-08-03T01:03:05&seed=1H84SNV.npz&extract_time=2019-08-03T03:27:21.npz',\n",
       " 'nodes=1.0e+05&er_edges=5.0e+05&choice_edges=2.0e+04&color_ratio=1.0e-03&checkpoint=1.00&time=2019-08-03T01:03:08&seed=BH2NIA.npz&extract_time=2019-08-03T03:28:26.npz',\n",
       " 'nodes=1.0e+05&er_edges=5.0e+05&choice_edges=2.0e+04&color_ratio=1.0e-03&checkpoint=1.00&time=2019-08-03T01:03:17&seed=1120R1O.npz&extract_time=2019-08-03T03:28:21.npz',\n",
       " 'nodes=1.0e+05&er_edges=5.0e+05&choice_edges=2.0e+04&color_ratio=1.0e-03&checkpoint=1.00&time=2019-08-03T01:03:18&seed=13J0772.npz&extract_time=2019-08-03T03:28:00.npz',\n",
       " 'nodes=1.0e+05&er_edges=5.0e+05&choice_edges=2.0e+04&color_ratio=1.0e-03&checkpoint=1.00&time=2019-08-03T01:03:18&seed=1NABRTC.npz&extract_time=2019-08-03T03:28:45.npz',\n",
       " 'nodes=1.0e+05&er_edges=5.0e+05&choice_edges=2.0e+04&color_ratio=1.0e-03&checkpoint=1.00&time=2019-08-03T01:03:18&seed=8TT589.npz&extract_time=2019-08-03T03:26:39.npz',\n",
       " 'nodes=1.0e+05&er_edges=5.0e+05&choice_edges=2.0e+04&color_ratio=1.0e-04&checkpoint=1.00&time=2019-08-03T01:03:03&seed=1V7BZBD.npz&extract_time=2019-08-03T03:26:27.npz',\n",
       " 'nodes=1.0e+05&er_edges=5.0e+05&choice_edges=2.0e+04&color_ratio=1.0e-04&checkpoint=1.00&time=2019-08-03T01:03:05&seed=LFU22E.npz&extract_time=2019-08-03T03:27:14.npz',\n",
       " 'nodes=1.0e+05&er_edges=5.0e+05&choice_edges=2.0e+04&color_ratio=1.0e-04&checkpoint=1.00&time=2019-08-03T01:03:06&seed=18T9VOP.npz&extract_time=2019-08-03T03:26:02.npz',\n",
       " 'nodes=1.0e+05&er_edges=5.0e+05&choice_edges=2.0e+04&color_ratio=1.0e-04&checkpoint=1.00&time=2019-08-03T01:03:06&seed=RH3AHX.npz&extract_time=2019-08-03T03:26:06.npz',\n",
       " 'nodes=1.0e+05&er_edges=5.0e+05&choice_edges=2.0e+04&color_ratio=1.0e-04&checkpoint=1.00&time=2019-08-03T01:03:08&seed=1H9SLA.npz&extract_time=2019-08-03T03:27:33.npz',\n",
       " 'nodes=1.0e+05&er_edges=5.0e+05&choice_edges=2.0e+04&color_ratio=1.0e-04&checkpoint=1.00&time=2019-08-03T01:03:20&seed=17LWZ77.npz&extract_time=2019-08-03T03:27:10.npz',\n",
       " 'nodes=1.0e+05&er_edges=5.0e+05&choice_edges=2.0e+04&color_ratio=1.0e-04&checkpoint=1.00&time=2019-08-03T01:03:21&seed=KYYQJ.npz&extract_time=2019-08-03T03:26:03.npz',\n",
       " 'nodes=1.0e+05&er_edges=5.0e+05&choice_edges=2.0e+04&color_ratio=2.0e-03&checkpoint=1.00&time=2019-08-03T01:03:05&seed=1P93RQY.npz&extract_time=2019-08-03T03:27:45.npz',\n",
       " 'nodes=1.0e+05&er_edges=5.0e+05&choice_edges=2.0e+04&color_ratio=2.0e-03&checkpoint=1.00&time=2019-08-03T01:03:06&seed=114B22W.npz&extract_time=2019-08-03T03:29:03.npz',\n",
       " 'nodes=1.0e+05&er_edges=5.0e+05&choice_edges=2.0e+04&color_ratio=2.0e-03&checkpoint=1.00&time=2019-08-03T01:03:09&seed=1JCR0IZ.npz&extract_time=2019-08-03T03:28:58.npz',\n",
       " 'nodes=1.0e+05&er_edges=5.0e+05&choice_edges=2.0e+04&color_ratio=2.0e-03&checkpoint=1.00&time=2019-08-03T01:03:15&seed=1H5LHQN.npz&extract_time=2019-08-03T03:29:09.npz',\n",
       " 'nodes=1.0e+05&er_edges=5.0e+05&choice_edges=2.0e+04&color_ratio=2.0e-03&checkpoint=1.00&time=2019-08-03T01:03:17&seed=9IN3OQ.npz&extract_time=2019-08-03T03:28:58.npz',\n",
       " 'nodes=1.0e+05&er_edges=5.0e+05&choice_edges=2.0e+04&color_ratio=2.0e-03&checkpoint=1.00&time=2019-08-03T01:03:20&seed=1YS3OSW.npz&extract_time=2019-08-03T03:27:41.npz',\n",
       " 'nodes=1.0e+05&er_edges=5.0e+05&choice_edges=2.0e+04&color_ratio=2.0e-03&checkpoint=1.00&time=2019-08-03T01:03:20&seed=2HS3MB.npz&extract_time=2019-08-03T03:28:49.npz',\n",
       " 'nodes=1.0e+05&er_edges=5.0e+05&choice_edges=2.0e+04&color_ratio=2.0e-04&checkpoint=1.00&time=2019-08-03T01:03:04&seed=160C4V8.npz&extract_time=2019-08-03T03:27:45.npz',\n",
       " 'nodes=1.0e+05&er_edges=5.0e+05&choice_edges=2.0e+04&color_ratio=2.0e-04&checkpoint=1.00&time=2019-08-03T01:03:07&seed=1XU005B.npz&extract_time=2019-08-03T03:26:59.npz',\n",
       " 'nodes=1.0e+05&er_edges=5.0e+05&choice_edges=2.0e+04&color_ratio=2.0e-04&checkpoint=1.00&time=2019-08-03T01:03:16&seed=1HTX96B.npz&extract_time=2019-08-03T03:27:35.npz',\n",
       " 'nodes=1.0e+05&er_edges=5.0e+05&choice_edges=2.0e+04&color_ratio=2.0e-04&checkpoint=1.00&time=2019-08-03T01:03:16&seed=1KU9QL0.npz&extract_time=2019-08-03T03:26:17.npz',\n",
       " 'nodes=1.0e+05&er_edges=5.0e+05&choice_edges=2.0e+04&color_ratio=2.0e-04&checkpoint=1.00&time=2019-08-03T01:03:18&seed=1Y9E701.npz&extract_time=2019-08-03T03:26:37.npz',\n",
       " 'nodes=1.0e+05&er_edges=5.0e+05&choice_edges=2.0e+04&color_ratio=2.0e-04&checkpoint=1.00&time=2019-08-03T01:03:21&seed=1P3R534.npz&extract_time=2019-08-03T03:27:07.npz',\n",
       " 'nodes=1.0e+05&er_edges=5.0e+05&choice_edges=2.0e+04&color_ratio=2.0e-04&checkpoint=1.00&time=2019-08-03T01:03:22&seed=22G7OB.npz&extract_time=2019-08-03T03:27:42.npz',\n",
       " 'nodes=1.0e+05&er_edges=5.0e+05&choice_edges=2.0e+04&color_ratio=5.0e-03&checkpoint=1.00&time=2019-08-03T01:03:03&seed=ZN5PS3.npz&extract_time=2019-08-03T03:30:34.npz',\n",
       " 'nodes=1.0e+05&er_edges=5.0e+05&choice_edges=2.0e+04&color_ratio=5.0e-03&checkpoint=1.00&time=2019-08-03T01:03:06&seed=1UEXRJY.npz&extract_time=2019-08-03T03:29:57.npz',\n",
       " 'nodes=1.0e+05&er_edges=5.0e+05&choice_edges=2.0e+04&color_ratio=5.0e-03&checkpoint=1.00&time=2019-08-03T01:03:07&seed=9YVAYR.npz&extract_time=2019-08-03T03:30:23.npz',\n",
       " 'nodes=1.0e+05&er_edges=5.0e+05&choice_edges=2.0e+04&color_ratio=5.0e-03&checkpoint=1.00&time=2019-08-03T01:03:15&seed=3147EC.npz&extract_time=2019-08-03T03:30:34.npz',\n",
       " 'nodes=1.0e+05&er_edges=5.0e+05&choice_edges=2.0e+04&color_ratio=5.0e-03&checkpoint=1.00&time=2019-08-03T01:03:18&seed=2I3LJH.npz&extract_time=2019-08-03T03:30:25.npz',\n",
       " 'nodes=1.0e+05&er_edges=5.0e+05&choice_edges=2.0e+04&color_ratio=5.0e-03&checkpoint=1.00&time=2019-08-03T01:03:18&seed=OOW4TH.npz&extract_time=2019-08-03T03:29:56.npz',\n",
       " 'nodes=1.0e+05&er_edges=5.0e+05&choice_edges=2.0e+04&color_ratio=5.0e-03&checkpoint=1.00&time=2019-08-03T01:03:19&seed=PYH3WQ.npz&extract_time=2019-08-03T03:30:48.npz',\n",
       " 'nodes=1.0e+05&er_edges=5.0e+05&choice_edges=2.0e+04&color_ratio=5.0e-04&checkpoint=1.00&time=2019-08-03T01:03:06&seed=LCFXL4.npz&extract_time=2019-08-03T03:26:56.npz',\n",
       " 'nodes=1.0e+05&er_edges=5.0e+05&choice_edges=2.0e+04&color_ratio=5.0e-04&checkpoint=1.00&time=2019-08-03T01:03:06&seed=OBIFKH.npz&extract_time=2019-08-03T03:26:47.npz',\n",
       " 'nodes=1.0e+05&er_edges=5.0e+05&choice_edges=2.0e+04&color_ratio=5.0e-04&checkpoint=1.00&time=2019-08-03T01:03:08&seed=92LO5S.npz&extract_time=2019-08-03T03:27:21.npz',\n",
       " 'nodes=1.0e+05&er_edges=5.0e+05&choice_edges=2.0e+04&color_ratio=5.0e-04&checkpoint=1.00&time=2019-08-03T01:03:17&seed=1TH7HOV.npz&extract_time=2019-08-03T03:26:47.npz',\n",
       " 'nodes=1.0e+05&er_edges=5.0e+05&choice_edges=2.0e+04&color_ratio=5.0e-04&checkpoint=1.00&time=2019-08-03T01:03:18&seed=WNN18T.npz&extract_time=2019-08-03T03:28:24.npz',\n",
       " 'nodes=1.0e+05&er_edges=5.0e+05&choice_edges=2.0e+04&color_ratio=5.0e-04&checkpoint=1.00&time=2019-08-03T01:03:20&seed=1VYEQ95.npz&extract_time=2019-08-03T03:26:06.npz',\n",
       " 'nodes=1.0e+05&er_edges=5.0e+05&choice_edges=2.0e+04&color_ratio=5.0e-04&checkpoint=1.00&time=2019-08-03T01:03:21&seed=1WLJY3E.npz&extract_time=2019-08-03T03:27:25.npz']"
      ]
     },
     "execution_count": 25,
     "metadata": {},
     "output_type": "execute_result"
    }
   ],
   "source": [
    "filenames"
   ]
  },
  {
   "cell_type": "code",
   "execution_count": 26,
   "metadata": {},
   "outputs": [],
   "source": [
    "def fit(kwargs, num_threads=1):\n",
    "  dataset_id = kwargs['id']\n",
    "  sampling = kwargs['sampling']\n",
    "  c = sampling[0]\n",
    "  dat = np.load('features/' + filenames[dataset_id])\n",
    "  results = {'results':[]}\n",
    "  results['dataset'] = {s.split('=')[0]:s.split('=')[1] for s in filenames[dataset_id].replace('.npz','').split('&')}\n",
    "  results['dataset']['sampling'] = sampling\n",
    "  \n",
    "  for i in range(20):\n",
    "    m = MNLogit(num_threads)\n",
    "    m.data(dat['Xs_'+c][i], dat['ys_'+c][i], sws=dat['sws_'+c][i])\n",
    "    m.fit(max_num_iter=500, clip=1.0, clip_norm_ord=2)\n",
    "    info = m.get_model_info()\n",
    "    info['se'] = list(info['se'])\n",
    "    info['weights'] = list(info['weights'])\n",
    "    results['results'].append(info)\n",
    "    \n",
    "  print(\"Dataset {},{} done\".format(dataset_id,sampling))\n",
    "  return results"
   ]
  },
  {
   "cell_type": "code",
   "execution_count": 27,
   "metadata": {},
   "outputs": [
    {
     "name": "stdout",
     "output_type": "stream",
     "text": [
      "Dataset 4,importance done\n",
      "Dataset 5,stratified done\n",
      "Dataset 1,stratified done\n",
      "Dataset 3,stratified done\n",
      "Dataset 6,importance done\n",
      "Dataset 6,stratified done\n",
      "Dataset 3,importance done\n",
      "Dataset 1,importance done\n",
      "Dataset 2,importance done\n",
      "Dataset 8,stratified done\n",
      "Dataset 5,importance done\n",
      "Dataset 0,stratified done\n",
      "Dataset 4,stratified done\n",
      "Dataset 22,stratified done\n",
      "Dataset 23,importance done\n",
      "Dataset 2,stratified done\n",
      "Dataset 8,importance done\n",
      "Dataset 20,importance done\n",
      "Dataset 7,stratified done\n",
      "Dataset 10,importance done\n",
      "Dataset 13,stratified done\n",
      "Dataset 10,stratified done\n",
      "Dataset 0,importance done\n",
      "Dataset 13,importance done\n",
      "Dataset 16,importance done\n",
      "Dataset 17,importance done\n",
      "Dataset 22,importance done\n",
      "Dataset 9,importance done\n",
      "Dataset 21,stratified done\n",
      "Dataset 11,importance done\n",
      "Dataset 11,stratified done\n",
      "Dataset 12,importance done\n",
      "Dataset 12,stratified done\n",
      "Dataset 21,importance done\n",
      "Dataset 7,importance done\n",
      "Dataset 24,stratified done\n",
      "Dataset 23,stratified done\n",
      "Dataset 15,importance done\n",
      "Dataset 15,stratified done\n",
      "Dataset 18,stratified done\n",
      "Dataset 9,stratified done\n",
      "Dataset 16,stratified done\n",
      "Dataset 17,stratified done\n",
      "Dataset 14,importance done\n",
      "Dataset 14,stratified done\n",
      "Dataset 20,stratified done\n",
      "Dataset 19,stratified done\n",
      "Dataset 18,importance done\n",
      "Dataset 19,importance done\n",
      "Dataset 24,importance done\n",
      "Dataset 29,importance done\n",
      "Dataset 25,importance done\n",
      "Dataset 26,importance done\n",
      "Dataset 29,stratified done\n",
      "Dataset 25,stratified done\n",
      "Dataset 26,stratified done\n",
      "Dataset 30,stratified done\n",
      "Dataset 28,stratified done\n",
      "Dataset 30,importance done\n",
      "Dataset 27,importance done\n",
      "Dataset 27,stratified done\n",
      "Dataset 28,importance done\n",
      "Dataset 32,stratified done\n",
      "Dataset 31,importance done\n",
      "Dataset 32,importance done\n",
      "Dataset 33,stratified done\n",
      "Dataset 31,stratified done\n",
      "Dataset 37,stratified done\n",
      "Dataset 44,stratified done\n",
      "Dataset 35,stratified done\n",
      "Dataset 36,importance done\n",
      "Dataset 40,importance done\n",
      "Dataset 41,stratified done\n",
      "Dataset 39,importance done\n",
      "Dataset 35,importance done\n",
      "Dataset 41,importance done\n",
      "Dataset 43,stratified done\n",
      "Dataset 42,stratified done\n",
      "Dataset 37,importance done\n",
      "Dataset 33,importance done\n",
      "Dataset 34,stratified done\n",
      "Dataset 40,stratified done\n",
      "Dataset 36,stratified done\n",
      "Dataset 39,stratified done\n",
      "Dataset 38,importance done\n",
      "Dataset 44,importance done\n",
      "Dataset 38,stratified done\n",
      "Dataset 34,importance done\n",
      "Dataset 45,stratified done\n",
      "Dataset 43,importance done\n",
      "Dataset 42,importance done\n",
      "Dataset 45,importance done\n",
      "Dataset 46,importance done\n",
      "Dataset 46,stratified done\n",
      "Dataset 47,stratified done\n",
      "Dataset 48,stratified done\n",
      "Dataset 47,importance done\n",
      "Dataset 48,importance done\n"
     ]
    }
   ],
   "source": [
    "from multiprocessing import Pool\n",
    "from itertools import product\n",
    "args = [{'id':i, 'sampling':s} for i,s in product(range(49), ['stratified','importance'])]\n",
    "with Pool(49) as p:\n",
    "  x = p.map(fit, args)"
   ]
  },
  {
   "cell_type": "code",
   "execution_count": null,
   "metadata": {},
   "outputs": [],
   "source": [
    "# import json\n",
    "# with open('fitted-synthetic-color-degree.json','w') as f:\n",
    "#   json.dump(x, f)"
   ]
  },
  {
   "cell_type": "code",
   "execution_count": null,
   "metadata": {},
   "outputs": [],
   "source": [
    "# fit({'id':66, 'sampling':'stratified'}, num_threads=64)"
   ]
  },
  {
   "cell_type": "code",
   "execution_count": null,
   "metadata": {},
   "outputs": [],
   "source": [
    "# import json\n",
    "# with open('fitted-synthetic-color-degree.json','r') as f:\n",
    "#   x = json.load(f)"
   ]
  },
  {
   "cell_type": "code",
   "execution_count": 39,
   "metadata": {},
   "outputs": [],
   "source": [
    "from collections import Counter\n",
    "xs = []\n",
    "ys_s = []\n",
    "ys_u = []\n",
    "# np.random.shuffle(x)\n",
    "for d in x:\n",
    "  for i in range(20):\n",
    "    if d['dataset']['sampling'] == 'importance':\n",
    "      xs.append(float(d['dataset']['color_ratio']))\n",
    "      ys_s.append(d['results'][i]['weights'][0])"
   ]
  },
  {
   "cell_type": "code",
   "execution_count": 40,
   "metadata": {},
   "outputs": [
    {
     "data": {
      "text/plain": [
       "Text(0.5,1,'weight of color, 23pos:1neg, color+fitness, log(N+1/s+1)')"
      ]
     },
     "execution_count": 40,
     "metadata": {},
     "output_type": "execute_result"
    },
    {
     "data": {
      "image/png": "[encoded data removed]",
      "text/plain": [
       "<Figure size 432x288 with 1 Axes>"
      ]
     },
     "metadata": {},
     "output_type": "display_data"
    }
   ],
   "source": [
    "import matplotlib.pyplot as plt\n",
    "plt.plot(xs, ys_s, '.', markersize=1)\n",
    "plt.plot([7e-5 ,0.7], [2,2], color='grey', linewidth=0.5)\n",
    "plt.xscale('log')\n",
    "plt.ylim(1,3)\n",
    "plt.title('weight of color, 23pos:1neg, color+fitness, log(N+1/s+1)')"
   ]
  },
  {
   "cell_type": "code",
   "execution_count": null,
   "metadata": {},
   "outputs": [],
   "source": [
    "filename = 'nodes=1.0e+05&er_edges=5.0e+05&choice_edges=2.0e+04&color_ratio=1.0e-02&checkpoint=1.00&time=2019-08-02T14:58:30&seed=NGMCEM.npz&extract_time=2019-08-02T23:28:35'\n",
    "dat = np.load(\"features/{}.npz\".format(filename))"
   ]
  },
  {
   "cell_type": "code",
   "execution_count": null,
   "metadata": {},
   "outputs": [],
   "source": [
    "new_sws = dat['sws_s']"
   ]
  },
  {
   "cell_type": "code",
   "execution_count": null,
   "metadata": {},
   "outputs": [],
   "source": [
    "sampling = 'stratified'\n",
    "c = sampling[0]\n",
    "for i in range(15):\n",
    "  m = MNLogit(num_threads=64)\n",
    "  m.data(dat['Xs_'+c][i], dat['ys_'+c][i], sws=new_sws[i])\n",
    "  m.fit(max_num_iter=500, clip=1.0, clip_norm_ord=2)\n",
    "  print(m.get_model_info())"
   ]
  }
 ],
 "metadata": {
  "kernelspec": {
   "display_name": "Python 3",
   "language": "python",
   "name": "python3"
  },
  "language_info": {
   "codemirror_mode": {
    "name": "ipython",
    "version": 3
   },
   "file_extension": ".py",
   "mimetype": "text/x-python",
   "name": "python",
   "nbconvert_exporter": "python",
   "pygments_lexer": "ipython3",
   "version": "3.5.2"
  }
 },
 "nbformat": 4,
 "nbformat_minor": 2
}
