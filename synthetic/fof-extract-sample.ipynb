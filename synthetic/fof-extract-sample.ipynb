{
 "cells": [
  {
   "cell_type": "markdown",
   "metadata": {},
   "source": [
    "# Random graph experiments I: Color"
   ]
  },
  {
   "cell_type": "markdown",
   "metadata": {},
   "source": [
    "## Graph and data generation module ##"
   ]
  },
  {
   "cell_type": "code",
   "execution_count": 1,
   "metadata": {},
   "outputs": [],
   "source": [
    "import os\n",
    "os.environ[\"OMP_NUM_THREADS\"] = \"1\" # export OMP_NUM_THREADS=4\n",
    "os.environ[\"OPENBLAS_NUM_THREADS\"] = \"1\" # export OPENBLAS_NUM_THREADS=4 \n",
    "os.environ[\"VECLIB_MAXIMUM_THREADS\"] = \"1\" # export VECLIB_MAXIMUM_THREADS=4"
   ]
  },
  {
   "cell_type": "code",
   "execution_count": 2,
   "metadata": {},
   "outputs": [],
   "source": [
    "import sys, time, random\n",
    "import numpy as np\n",
    "from collections import Counter, defaultdict, deque\n",
    "from datetime import datetime"
   ]
  },
  {
   "cell_type": "code",
   "execution_count": 3,
   "metadata": {},
   "outputs": [],
   "source": [
    "def flatten(l):\n",
    "  return deque([i for j in l for i in j])"
   ]
  },
  {
   "cell_type": "code",
   "execution_count": 4,
   "metadata": {},
   "outputs": [],
   "source": [
    "\"\"\"\n",
    "  Define random_integer_excluding\n",
    "  \n",
    "    Params:\n",
    "      low, high: integers indicating the range for sampling. Inclusive low and exclusive high.\n",
    "      excluding: a set\n",
    "  \n",
    "    Functionality:\n",
    "      Extend random.sample function to sample from large integer range, and exclude a small set\n",
    "      Optimized when the range (high-low) is very large\n",
    "      \n",
    "    Return:\n",
    "      sampled_integers (list)\n",
    "\"\"\"\n",
    "def random_integer_excluding(low, high, excluding, size=1):\n",
    "  exclusion = {num for num in excluding if low <= num < high}\n",
    "  result = []\n",
    "  if size == 0:\n",
    "    return result\n",
    "  while len(result) < size:\n",
    "    buf = random.sample(range(low, high), size - len(result))\n",
    "    for num in buf:\n",
    "      if len(exclusion) >= high-low:\n",
    "        raise RuntimeError(\"random_integer_excluding fails: Size too large; exhausted all integers available in the range before finishing.\")\n",
    "      if num not in exclusion:\n",
    "        result.append(num)\n",
    "        exclusion.add(num)\n",
    "  return result"
   ]
  },
  {
   "cell_type": "code",
   "execution_count": 5,
   "metadata": {},
   "outputs": [],
   "source": [
    "def collect(assignment):\n",
    "  result = defaultdict(set)\n",
    "  for node in assignment:\n",
    "    result[assignment[node]].add(node)\n",
    "  return result"
   ]
  },
  {
   "cell_type": "code",
   "execution_count": 6,
   "metadata": {},
   "outputs": [],
   "source": [
    "\"\"\"\n",
    "  Define stratification_indexer\n",
    "  \n",
    "    Params: \n",
    "    - groups (an map from group_id to list of member)\n",
    "      groups[i] return members of group i.\n",
    "      Group 0 is the 'default' group and is not present.\n",
    "      Can be negative, which will always be ignored.\n",
    "    - strata_sizes (an integer array of length = number of strata)\n",
    "      strata_sizes[i] return the size cap of the stratum i (except i=0)\n",
    "    - num_multisample (an integer)\n",
    "    \n",
    "    Functionality:\n",
    "      Perform sampling on the same set of parameters num_multisample time.\n",
    "      In general case, sample strata_sizes[i] nodes from group i w/o replacement.\n",
    "      \n",
    "      If the specified strata_size[i] is larger than the number of nodes in group i,\n",
    "      retuen all nodes in group i, and increase the number of sample in the default\n",
    "      strata (group 0) with strata_size[i] - actual size of group[i].\n",
    "      \n",
    "    Return:\n",
    "      sampled_nodes, (numpy.ndarray)\n",
    "      log_down_sampling_rate for each sampled node, (numpy.ndarray)\n",
    "\"\"\"\n",
    "def stratification_indexer(num_nodes, groups_assignment, strata_sizes, post_assignments={}, num_multisample=1):\n",
    "  \n",
    "  num_strata = len(strata_sizes)\n",
    "  groups = collect(groups_assignment)\n",
    "  sizeof_pool0 = num_nodes - sum([len(groups[i]) for i in groups])\n",
    "  \n",
    "  def sample_once():\n",
    "    \n",
    "    sizeof_strata0 = strata_sizes[0]\n",
    "    selected_indices_for_strata = [None] * num_strata\n",
    "    \n",
    "    for i in range(1, num_strata):\n",
    "      selected_indices_for_strata[i] = random.sample(groups[i], min(len(groups[i]), strata_sizes[i]))\n",
    "      sizeof_strata0 += strata_sizes[i] - len(selected_indices_for_strata[i])\n",
    "    \n",
    "    selected_indices_for_strata[0] = random_integer_excluding(low=0, high=num_nodes, excluding=groups_assignment, size=sizeof_strata0)\n",
    "    \n",
    "    if (sizeof_strata0 == 0) ^ (sizeof_pool0 == 0):\n",
    "      raise RuntimeError(\"Size of strata and pool must be both non-zero or both zero. (Currently s={}, p={})\".format(sizeof_strata0, sizeof_pool0))\n",
    "    actual_strata_sizes = [sizeof_strata0]\n",
    "    pool_sizes = [sizeof_pool0]\n",
    "    for i in range(1, num_strata):\n",
    "      if (len(selected_indices_for_strata[i]) == 0) ^ (len(groups[i]) == 0):\n",
    "        raise RuntimeError(\"Size of strata and pool must be both non-zero or both zero. (Currently s={}, p={})\".format(len(selected_indices_for_strata[i]), len(groups[i])))\n",
    "        \n",
    "      actual_strata_sizes.append(len(selected_indices_for_strata[i]))\n",
    "      pool_sizes.append(len(groups[i]))\n",
    " \n",
    "    for n in post_assignments:\n",
    "      actual_strata_sizes[post_assignments[n]] += 1\n",
    "      pool_sizes[post_assignments[n]] += 1\n",
    "      \n",
    "    \n",
    "    nested_strata_sizes = [[actual_strata_sizes[i]] * len(selected_indices_for_strata[i]) for i in range(num_strata)]\n",
    "    nested_pool_sizes = [[pool_sizes[i]] * len(selected_indices_for_strata[i]) for i in range(num_strata)]\n",
    "    \n",
    "    for n in post_assignments:\n",
    "      selected_indices_for_strata.append([n])\n",
    "      nested_strata_sizes.append([actual_strata_sizes[post_assignments[n]]])\n",
    "      nested_pool_sizes.append([pool_sizes[post_assignments[n]]])\n",
    "    \n",
    "    return flatten(selected_indices_for_strata), flatten(nested_strata_sizes), flatten(nested_pool_sizes)\n",
    "  \n",
    "  return [sample_once() for _ in range(num_multisample)]"
   ]
  },
  {
   "cell_type": "code",
   "execution_count": 7,
   "metadata": {},
   "outputs": [
    {
     "data": {
      "text/plain": [
       "[(deque([3, 4, 6, 1]), deque([3, 3, 1, 3]), deque([4, 4, 2, 4])),\n",
       " (deque([2, 3, 6, 1]), deque([3, 3, 1, 3]), deque([4, 4, 2, 4]))]"
      ]
     },
     "execution_count": 7,
     "metadata": {},
     "output_type": "execute_result"
    }
   ],
   "source": [
    "def test():\n",
    "  groups_assignment = {0:-1, 1:-1, 2:1, 3:1, 4:1, 5:2, 6:2}\n",
    "  strata_sizes = np.array([0,2,1])\n",
    "  return stratification_indexer(7, groups_assignment, strata_sizes, post_assignments={1:1}, num_multisample=2)\n",
    "test()"
   ]
  },
  {
   "cell_type": "code",
   "execution_count": 8,
   "metadata": {},
   "outputs": [
    {
     "data": {
      "text/plain": [
       "[(deque([8, 7, 3, 2, 5, 6, 1]),\n",
       "  deque([2, 2, 2, 2, 3, 3, 3]),\n",
       "  deque([2, 2, 3, 3, 3, 3, 3])),\n",
       " (deque([8, 7, 2, 3, 5, 6, 1]),\n",
       "  deque([2, 2, 2, 2, 3, 3, 3]),\n",
       "  deque([2, 2, 3, 3, 3, 3, 3]))]"
      ]
     },
     "execution_count": 8,
     "metadata": {},
     "output_type": "execute_result"
    }
   ],
   "source": [
    "def test():\n",
    "  groups_assignment = {0:-1, 1:-1, 2:1, 3:1, 4:1, 5:2, 6:2}\n",
    "  strata_sizes = np.array([1,2,3])\n",
    "  return stratification_indexer(9, groups_assignment, strata_sizes, post_assignments={1:2}, num_multisample=2)\n",
    "test()"
   ]
  },
  {
   "cell_type": "code",
   "execution_count": 9,
   "metadata": {},
   "outputs": [
    {
     "data": {
      "text/plain": [
       "[(deque([8, 6, 7, 4, 3, 2, 1]),\n",
       "  deque([3, 3, 3, 4, 4, 4, 4]),\n",
       "  deque([3, 3, 3, 5, 5, 5, 5])),\n",
       " (deque([6, 7, 8, 2, 3, 4, 1]),\n",
       "  deque([3, 3, 3, 4, 4, 4, 4]),\n",
       "  deque([3, 3, 3, 5, 5, 5, 5]))]"
      ]
     },
     "execution_count": 9,
     "metadata": {},
     "output_type": "execute_result"
    }
   ],
   "source": [
    "def test():\n",
    "  groups_assignment = {0:-1, 1:-1, 2:2, 3:2, 4:2, 5:2}\n",
    "  strata_sizes = np.array([1,2,3])\n",
    "  return stratification_indexer(9, groups_assignment, strata_sizes, post_assignments={1:2}, num_multisample=2)\n",
    "test()"
   ]
  },
  {
   "cell_type": "code",
   "execution_count": 10,
   "metadata": {},
   "outputs": [],
   "source": [
    "class DirectedColorGraphFeatureExtractor(object):\n",
    "  \n",
    "  def __init__(self, num_nodes, num_multisample, graph_info=None):\n",
    "    self.num_nodes = num_nodes\n",
    "    self.adjacency_to = [Counter() for _ in range(num_nodes)]\n",
    "    self.adjacency_from = [Counter() for _ in range(num_nodes)]\n",
    "    self.in_degs = np.zeros(num_nodes)\n",
    "    self.out_degs = np.zeros(num_nodes)\n",
    "    self.graph_info = graph_info\n",
    "    self.num_multisample = num_multisample\n",
    "    self.data = {i:[[] for _ in range(num_multisample)] for i in ['Xs_u', 'ys_u', 'sws_u',\n",
    "                                                                  'Xs_s', 'ys_s', 'sws_s',\n",
    "                                                                  'Xs_i', 'ys_i', 'sws_i']}\n",
    "    \n",
    "  def add_edge(self, actor, target, warn=True):\n",
    "    if self.adjacency_to[actor][target] == 0:\n",
    "      self.out_degs[actor] += 1\n",
    "      self.in_degs[target] += 1\n",
    "      self.adjacency_to[actor][target] += 1\n",
    "      self.adjacency_from[target][actor] += 1\n",
    "    elif warn:\n",
    "      print(\"Edge already exists; ignored.\")\n",
    "      \n",
    "  \n",
    "  def uniform_sample(self, actor, target, num_multisample=1):\n",
    "    # Exclude actor, target, those already connected\n",
    "    assignment = {}\n",
    "    for friend in self.adjacency_to[actor]:\n",
    "      assignment[friend] = -1\n",
    "    assignment[actor] = -1\n",
    "    assignment[target] = -1\n",
    "    return stratification_indexer(self.num_nodes, assignment, [24], post_assignments={target:0}, num_multisample=num_multisample)\n",
    "  \n",
    "    \n",
    "  def stratified_sample(self, actor, target, num_multisample=1):\n",
    "    assignment = {}\n",
    "    for node in self.graph_info['red_nodes']:\n",
    "      assignment[node] = 1\n",
    "    for friend in self.adjacency_to[actor]:\n",
    "      assignment[friend] = -1\n",
    "    assignment[actor] = -1\n",
    "    assignment[target] = -1\n",
    "    target_group = int(self.graph_info['node_colors'][target])\n",
    "    return stratification_indexer(self.num_nodes, assignment, [12,12], post_assignments={target:target_group}, num_multisample=num_multisample) \n",
    "    \n",
    "  def importance_sample(self, actor, target, num_multisample=1):\n",
    "    assignment = {}\n",
    "    for node in self.graph_info['red_nodes']:\n",
    "      assignment[node] = 1\n",
    "    for friend in self.adjacency_to[actor]:\n",
    "      assignment[friend] = -1\n",
    "    assignment[actor] = -1\n",
    "    assignment[target] = -1\n",
    "    target_group = int(self.graph_info['node_colors'][target])\n",
    "    importance = float(self.graph_info['coefficient'])\n",
    "    num_sample = 24\n",
    "    pos = int(np.round(num_sample * np.exp(importance) / (num_sample + np.exp(importance))))\n",
    "    pos = min(max(pos, 1), num_sample-1)\n",
    "    return stratification_indexer(self.num_nodes, assignment, [num_sample-pos,pos], post_assignments={target:target_group}, num_multisample=num_multisample)\n",
    "    \n",
    "  def extract_feature(self, actor, candidates):\n",
    "    in_degs = self.in_degs[candidates]\n",
    "    log_in_degs = np.log(in_degs + (in_degs < 0.5).astype(int))\n",
    "    num_2o_path = np.zeros(self.num_nodes)\n",
    "    \n",
    "    for n in self.adjacency_to[actor]:\n",
    "      for nn in self.adjacency_to[n]:\n",
    "        num_2o_path[nn] += 1\n",
    "        \n",
    "    isFoF = (num_2o_path > 0).astype(int)\n",
    "    \n",
    "    return np.array([isFoF, log_in_degs]).T\n",
    "  \n",
    "  def add_edge_and_collect_data(self, actor, target):\n",
    "    for i, (candidates, strata, pool) in enumerate(self.uniform_sample(actor, target, num_multisample=self.num_multisample)):\n",
    "      self.data['Xs_u'][i].append(self.extract_feature(actor, candidates))\n",
    "      self.data['ys_u'][i].append(24)\n",
    "      self.data['sws_u'][i].append(np.log(np.array(pool)/np.array(strata)))\n",
    "    for i, (candidates, strata, pool) in enumerate(self.stratified_sample(actor, target, num_multisample=self.num_multisample)):\n",
    "      self.data['Xs_s'][i].append(self.extract_feature(actor, candidates))\n",
    "      self.data['ys_s'][i].append(24)\n",
    "      self.data['sws_s'][i].append(np.log(np.array(pool)/np.array(strata)))  \n",
    "    for i, (candidates, strata, pool) in enumerate(self.importance_sample(actor, target, num_multisample=self.num_multisample)):\n",
    "      self.data['Xs_i'][i].append(self.extract_feature(actor, candidates))\n",
    "      self.data['ys_i'][i].append(24)\n",
    "      self.data['sws_i'][i].append(np.log(np.array(pool)/np.array(strata)))  \n",
    "    self.add_edge(actor, target)"
   ]
  },
  {
   "cell_type": "code",
   "execution_count": 11,
   "metadata": {},
   "outputs": [],
   "source": [
    "def extract(filename):\n",
    "  \n",
    "  num_nodes = 100000\n",
    "  num_choice_edges = 20000\n",
    "  logging_interval = 200\n",
    "  \n",
    "  dat = np.load('graphs-fof/' + filename)\n",
    "  graph_info = {'node_colors':dat['node_colors'],\\\n",
    "                'node_fitness':dat['node_fitness'],\\\n",
    "                'red_nodes':np.argwhere(dat['node_colors']).reshape(-1)}\n",
    "  \n",
    "  for kv in filename.split(\"&\"):\n",
    "    k, v = kv.split(\"=\")\n",
    "    if k == 'fof_weight':\n",
    "      graph_info['coefficient'] = float(v)\n",
    "      \n",
    "  G = DirectedColorGraphFeatureExtractor(num_nodes, num_multisample=20, graph_info=graph_info)\n",
    "  for vi,vj in dat['er_edges']:\n",
    "    G.add_edge(vi,vj)\n",
    "  t0 = time.time()\n",
    "\n",
    "  for i, (actor, target) in enumerate(dat['choice_edges']):\n",
    "\n",
    "    G.add_edge_and_collect_data(actor, target)\n",
    "    \n",
    "    if (i+1) % logging_interval == 0 and i > 0:\n",
    "      print(i+1)\n",
    "      t = time.time() - t0\n",
    "      t_done = datetime.fromtimestamp(t0 + t * (num_choice_edges) / (i+1)).strftime('%Y-%m-%dT%H:%M:%S') \n",
    "      tentative = \"features-fof/{}\".format('&'.join(filename.split('&')[:4]))\n",
    "      msg = \"Time = {}; Progress = {:.2f}; Time since beginning = {:.1f}s; Est finish = {}; Tentative Destination = {}\\n\"\\\n",
    "            .format(datetime.now().strftime('%Y-%m-%dT%H:%M:%S'), (i+1)/num_choice_edges, t, t_done, tentative)\n",
    "      with open(\"log\", \"a\") as log_file:\n",
    "        log_file.write(msg)\n",
    "    \n",
    "  new_filename = \"features-fof/{}&extract_time={}.npz\".format('&'.join(filename.split('&')), datetime.now().strftime('%Y-%m-%dT%H:%M:%S'))\n",
    "  np.savez(new_filename, Xs_u=G.data['Xs_u'], ys_u=G.data['ys_u'], sws_u=G.data['sws_u'],\\\n",
    "                         Xs_s=G.data['Xs_s'], ys_s=G.data['ys_s'], sws_s=G.data['sws_s'],\\\n",
    "                         Xs_i=G.data['Xs_i'], ys_i=G.data['ys_i'], sws_i=G.data['sws_i'])"
   ]
  },
  {
   "cell_type": "code",
   "execution_count": 12,
   "metadata": {},
   "outputs": [
    {
     "name": "stdout",
     "output_type": "stream",
     "text": [
      "200\n",
      "400\n",
      "600\n",
      "800\n",
      "1000\n"
     ]
    },
    {
     "name": "stderr",
     "output_type": "stream",
     "text": [
      "Process ForkPoolWorker-1:\n",
      "Traceback (most recent call last):\n",
      "  File \"/usr/lib/python3.5/multiprocessing/process.py\", line 249, in _bootstrap\n",
      "    self.run()\n",
      "  File \"/usr/lib/python3.5/multiprocessing/process.py\", line 93, in run\n",
      "    self._target(*self._args, **self._kwargs)\n",
      "  File \"/usr/lib/python3.5/multiprocessing/pool.py\", line 119, in worker\n",
      "    result = (True, func(*args, **kwds))\n",
      "  File \"/usr/lib/python3.5/multiprocessing/pool.py\", line 44, in mapstar\n",
      "    return list(map(*args))\n",
      "  File \"<ipython-input-11-6fae197b8be3>\", line 22, in extract\n",
      "    G.add_edge_and_collect_data(actor, target)\n",
      "  File \"<ipython-input-10-15dfe3180118>\", line 76, in add_edge_and_collect_data\n",
      "    self.data['Xs_u'][i].append(self.extract_feature(actor, candidates))\n",
      "  File \"<ipython-input-10-15dfe3180118>\", line 70, in extract_feature\n",
      "    isFoF = (num_2o_path > 0).astype(int)\n",
      "KeyboardInterrupt\n"
     ]
    },
    {
     "ename": "KeyboardInterrupt",
     "evalue": "",
     "output_type": "error",
     "traceback": [
      "\u001b[0;31m---------------------------------------------------------------------------\u001b[0m",
      "\u001b[0;31mKeyboardInterrupt\u001b[0m                         Traceback (most recent call last)",
      "\u001b[0;32m<ipython-input-12-7506419720e6>\u001b[0m in \u001b[0;36m<module>\u001b[0;34m()\u001b[0m\n\u001b[1;32m      5\u001b[0m \u001b[0;31m#filenames = filenames[0::2]\u001b[0m\u001b[0;34m\u001b[0m\u001b[0;34m\u001b[0m\u001b[0m\n\u001b[1;32m      6\u001b[0m \u001b[0;32mwith\u001b[0m \u001b[0mPool\u001b[0m\u001b[0;34m(\u001b[0m\u001b[0;36m1\u001b[0m\u001b[0;34m)\u001b[0m \u001b[0;32mas\u001b[0m \u001b[0mp\u001b[0m\u001b[0;34m:\u001b[0m\u001b[0;34m\u001b[0m\u001b[0m\n\u001b[0;32m----> 7\u001b[0;31m   \u001b[0mp\u001b[0m\u001b[0;34m.\u001b[0m\u001b[0mmap\u001b[0m\u001b[0;34m(\u001b[0m\u001b[0mextract\u001b[0m\u001b[0;34m,\u001b[0m \u001b[0mfilenames\u001b[0m\u001b[0;34m)\u001b[0m\u001b[0;34m\u001b[0m\u001b[0m\n\u001b[0m",
      "\u001b[0;32m/usr/lib/python3.5/multiprocessing/pool.py\u001b[0m in \u001b[0;36mmap\u001b[0;34m(self, func, iterable, chunksize)\u001b[0m\n\u001b[1;32m    258\u001b[0m         \u001b[0;32min\u001b[0m \u001b[0ma\u001b[0m \u001b[0mlist\u001b[0m \u001b[0mthat\u001b[0m \u001b[0;32mis\u001b[0m \u001b[0mreturned\u001b[0m\u001b[0;34m.\u001b[0m\u001b[0;34m\u001b[0m\u001b[0m\n\u001b[1;32m    259\u001b[0m         '''\n\u001b[0;32m--> 260\u001b[0;31m         \u001b[0;32mreturn\u001b[0m \u001b[0mself\u001b[0m\u001b[0;34m.\u001b[0m\u001b[0m_map_async\u001b[0m\u001b[0;34m(\u001b[0m\u001b[0mfunc\u001b[0m\u001b[0;34m,\u001b[0m \u001b[0miterable\u001b[0m\u001b[0;34m,\u001b[0m \u001b[0mmapstar\u001b[0m\u001b[0;34m,\u001b[0m \u001b[0mchunksize\u001b[0m\u001b[0;34m)\u001b[0m\u001b[0;34m.\u001b[0m\u001b[0mget\u001b[0m\u001b[0;34m(\u001b[0m\u001b[0;34m)\u001b[0m\u001b[0;34m\u001b[0m\u001b[0m\n\u001b[0m\u001b[1;32m    261\u001b[0m \u001b[0;34m\u001b[0m\u001b[0m\n\u001b[1;32m    262\u001b[0m     \u001b[0;32mdef\u001b[0m \u001b[0mstarmap\u001b[0m\u001b[0;34m(\u001b[0m\u001b[0mself\u001b[0m\u001b[0;34m,\u001b[0m \u001b[0mfunc\u001b[0m\u001b[0;34m,\u001b[0m \u001b[0miterable\u001b[0m\u001b[0;34m,\u001b[0m \u001b[0mchunksize\u001b[0m\u001b[0;34m=\u001b[0m\u001b[0;32mNone\u001b[0m\u001b[0;34m)\u001b[0m\u001b[0;34m:\u001b[0m\u001b[0;34m\u001b[0m\u001b[0m\n",
      "\u001b[0;32m/usr/lib/python3.5/multiprocessing/pool.py\u001b[0m in \u001b[0;36mget\u001b[0;34m(self, timeout)\u001b[0m\n\u001b[1;32m    600\u001b[0m \u001b[0;34m\u001b[0m\u001b[0m\n\u001b[1;32m    601\u001b[0m     \u001b[0;32mdef\u001b[0m \u001b[0mget\u001b[0m\u001b[0;34m(\u001b[0m\u001b[0mself\u001b[0m\u001b[0;34m,\u001b[0m \u001b[0mtimeout\u001b[0m\u001b[0;34m=\u001b[0m\u001b[0;32mNone\u001b[0m\u001b[0;34m)\u001b[0m\u001b[0;34m:\u001b[0m\u001b[0;34m\u001b[0m\u001b[0m\n\u001b[0;32m--> 602\u001b[0;31m         \u001b[0mself\u001b[0m\u001b[0;34m.\u001b[0m\u001b[0mwait\u001b[0m\u001b[0;34m(\u001b[0m\u001b[0mtimeout\u001b[0m\u001b[0;34m)\u001b[0m\u001b[0;34m\u001b[0m\u001b[0m\n\u001b[0m\u001b[1;32m    603\u001b[0m         \u001b[0;32mif\u001b[0m \u001b[0;32mnot\u001b[0m \u001b[0mself\u001b[0m\u001b[0;34m.\u001b[0m\u001b[0mready\u001b[0m\u001b[0;34m(\u001b[0m\u001b[0;34m)\u001b[0m\u001b[0;34m:\u001b[0m\u001b[0;34m\u001b[0m\u001b[0m\n\u001b[1;32m    604\u001b[0m             \u001b[0;32mraise\u001b[0m \u001b[0mTimeoutError\u001b[0m\u001b[0;34m\u001b[0m\u001b[0m\n",
      "\u001b[0;32m/usr/lib/python3.5/multiprocessing/pool.py\u001b[0m in \u001b[0;36mwait\u001b[0;34m(self, timeout)\u001b[0m\n\u001b[1;32m    597\u001b[0m \u001b[0;34m\u001b[0m\u001b[0m\n\u001b[1;32m    598\u001b[0m     \u001b[0;32mdef\u001b[0m \u001b[0mwait\u001b[0m\u001b[0;34m(\u001b[0m\u001b[0mself\u001b[0m\u001b[0;34m,\u001b[0m \u001b[0mtimeout\u001b[0m\u001b[0;34m=\u001b[0m\u001b[0;32mNone\u001b[0m\u001b[0;34m)\u001b[0m\u001b[0;34m:\u001b[0m\u001b[0;34m\u001b[0m\u001b[0m\n\u001b[0;32m--> 599\u001b[0;31m         \u001b[0mself\u001b[0m\u001b[0;34m.\u001b[0m\u001b[0m_event\u001b[0m\u001b[0;34m.\u001b[0m\u001b[0mwait\u001b[0m\u001b[0;34m(\u001b[0m\u001b[0mtimeout\u001b[0m\u001b[0;34m)\u001b[0m\u001b[0;34m\u001b[0m\u001b[0m\n\u001b[0m\u001b[1;32m    600\u001b[0m \u001b[0;34m\u001b[0m\u001b[0m\n\u001b[1;32m    601\u001b[0m     \u001b[0;32mdef\u001b[0m \u001b[0mget\u001b[0m\u001b[0;34m(\u001b[0m\u001b[0mself\u001b[0m\u001b[0;34m,\u001b[0m \u001b[0mtimeout\u001b[0m\u001b[0;34m=\u001b[0m\u001b[0;32mNone\u001b[0m\u001b[0;34m)\u001b[0m\u001b[0;34m:\u001b[0m\u001b[0;34m\u001b[0m\u001b[0m\n",
      "\u001b[0;32m/usr/lib/python3.5/threading.py\u001b[0m in \u001b[0;36mwait\u001b[0;34m(self, timeout)\u001b[0m\n\u001b[1;32m    547\u001b[0m             \u001b[0msignaled\u001b[0m \u001b[0;34m=\u001b[0m \u001b[0mself\u001b[0m\u001b[0;34m.\u001b[0m\u001b[0m_flag\u001b[0m\u001b[0;34m\u001b[0m\u001b[0m\n\u001b[1;32m    548\u001b[0m             \u001b[0;32mif\u001b[0m \u001b[0;32mnot\u001b[0m \u001b[0msignaled\u001b[0m\u001b[0;34m:\u001b[0m\u001b[0;34m\u001b[0m\u001b[0m\n\u001b[0;32m--> 549\u001b[0;31m                 \u001b[0msignaled\u001b[0m \u001b[0;34m=\u001b[0m \u001b[0mself\u001b[0m\u001b[0;34m.\u001b[0m\u001b[0m_cond\u001b[0m\u001b[0;34m.\u001b[0m\u001b[0mwait\u001b[0m\u001b[0;34m(\u001b[0m\u001b[0mtimeout\u001b[0m\u001b[0;34m)\u001b[0m\u001b[0;34m\u001b[0m\u001b[0m\n\u001b[0m\u001b[1;32m    550\u001b[0m             \u001b[0;32mreturn\u001b[0m \u001b[0msignaled\u001b[0m\u001b[0;34m\u001b[0m\u001b[0m\n\u001b[1;32m    551\u001b[0m \u001b[0;34m\u001b[0m\u001b[0m\n",
      "\u001b[0;32m/usr/lib/python3.5/threading.py\u001b[0m in \u001b[0;36mwait\u001b[0;34m(self, timeout)\u001b[0m\n\u001b[1;32m    291\u001b[0m         \u001b[0;32mtry\u001b[0m\u001b[0;34m:\u001b[0m    \u001b[0;31m# restore state no matter what (e.g., KeyboardInterrupt)\u001b[0m\u001b[0;34m\u001b[0m\u001b[0m\n\u001b[1;32m    292\u001b[0m             \u001b[0;32mif\u001b[0m \u001b[0mtimeout\u001b[0m \u001b[0;32mis\u001b[0m \u001b[0;32mNone\u001b[0m\u001b[0;34m:\u001b[0m\u001b[0;34m\u001b[0m\u001b[0m\n\u001b[0;32m--> 293\u001b[0;31m                 \u001b[0mwaiter\u001b[0m\u001b[0;34m.\u001b[0m\u001b[0macquire\u001b[0m\u001b[0;34m(\u001b[0m\u001b[0;34m)\u001b[0m\u001b[0;34m\u001b[0m\u001b[0m\n\u001b[0m\u001b[1;32m    294\u001b[0m                 \u001b[0mgotit\u001b[0m \u001b[0;34m=\u001b[0m \u001b[0;32mTrue\u001b[0m\u001b[0;34m\u001b[0m\u001b[0m\n\u001b[1;32m    295\u001b[0m             \u001b[0;32melse\u001b[0m\u001b[0;34m:\u001b[0m\u001b[0;34m\u001b[0m\u001b[0m\n",
      "\u001b[0;31mKeyboardInterrupt\u001b[0m: "
     ]
    }
   ],
   "source": [
    "import os\n",
    "from multiprocessing import Pool\n",
    "\n",
    "filenames = sorted([os.path.basename(name) for name in os.listdir('graphs-fof') if len(name.split('&')) >= 4])\n",
    "#filenames = filenames[0::2]\n",
    "with Pool(1) as p:\n",
    "  p.map(extract, filenames)"
   ]
  }
 ],
 "metadata": {
  "kernelspec": {
   "display_name": "Python 3",
   "language": "python",
   "name": "python3"
  },
  "language_info": {
   "codemirror_mode": {
    "name": "ipython",
    "version": 3
   },
   "file_extension": ".py",
   "mimetype": "text/x-python",
   "name": "python",
   "nbconvert_exporter": "python",
   "pygments_lexer": "ipython3",
   "version": "3.5.2"
  }
 },
 "nbformat": 4,
 "nbformat_minor": 2
}
