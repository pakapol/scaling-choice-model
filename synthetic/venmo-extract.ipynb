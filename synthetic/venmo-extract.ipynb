{
 "cells": [
  {
   "cell_type": "markdown",
   "metadata": {},
   "source": [
    "# Venmo"
   ]
  },
  {
   "cell_type": "markdown",
   "metadata": {},
   "source": [
    "## Graph and data generation module ##"
   ]
  },
  {
   "cell_type": "code",
   "execution_count": 1,
   "metadata": {},
   "outputs": [],
   "source": [
    "import os\n",
    "os.environ[\"OMP_NUM_THREADS\"] = \"1\" # export OMP_NUM_THREADS=4\n",
    "os.environ[\"OPENBLAS_NUM_THREADS\"] = \"1\" # export OPENBLAS_NUM_THREADS=4 \n",
    "os.environ[\"VECLIB_MAXIMUM_THREADS\"] = \"1\" # export VECLIB_MAXIMUM_THREADS=4"
   ]
  },
  {
   "cell_type": "code",
   "execution_count": 2,
   "metadata": {},
   "outputs": [],
   "source": [
    "import sys, time, random\n",
    "import numpy as np\n",
    "import pandas as pd\n",
    "from collections import Counter, defaultdict, deque\n",
    "from datetime import datetime\n",
    "from model.MNLogit_bfgs_torch import MNLogit"
   ]
  },
  {
   "cell_type": "code",
   "execution_count": 3,
   "metadata": {},
   "outputs": [],
   "source": [
    "PATH = \"../venmo/temp/\"\n",
    "def get_edges():\n",
    "  l = []\n",
    "  for i, filename in enumerate(sorted(os.listdir(PATH))):\n",
    "    if '.list' not in filename:\n",
    "      continue\n",
    "    if i > 100:\n",
    "      break\n",
    "    dat = pd.read_csv(PATH + filename, delim_whitespace=True, header=None).values\n",
    "    for row in dat:\n",
    "      if row[3] == 0:\n",
    "        l.append((row[2],row[4]))\n",
    "      else:\n",
    "        l.append((row[4],row[2]))\n",
    "  return l"
   ]
  },
  {
   "cell_type": "code",
   "execution_count": 4,
   "metadata": {},
   "outputs": [],
   "source": [
    "def flatten(l):\n",
    "  return deque([i for j in l for i in j])"
   ]
  },
  {
   "cell_type": "code",
   "execution_count": 5,
   "metadata": {},
   "outputs": [],
   "source": [
    "\"\"\"\n",
    "  Define random_integer_excluding\n",
    "  \n",
    "    Params:\n",
    "      low, high: integers indicating the range for sampling. Inclusive low and exclusive high.\n",
    "      excluding: a set\n",
    "  \n",
    "    Functionality:\n",
    "      Extend random.sample function to sample from large integer range, and exclude a small set\n",
    "      Optimized when the range (high-low) is very large\n",
    "      \n",
    "    Return:\n",
    "      sampled_integers (list)\n",
    "\"\"\"\n",
    "def random_integer_excluding(low, high, excluding, size=1):\n",
    "  exclusion = {num for num in excluding if low <= num < high}\n",
    "  result = []\n",
    "  if size == 0:\n",
    "    return result\n",
    "  while len(result) < size:\n",
    "    buf = random.sample(range(low, high), size - len(result))\n",
    "    for num in buf:\n",
    "      if len(exclusion) >= high-low:\n",
    "        raise RuntimeError(\"random_integer_excluding fails: Size too large; exhausted all integers available in the range before finishing.\")\n",
    "      if num not in exclusion:\n",
    "        result.append(num)\n",
    "        exclusion.add(num)\n",
    "  return result"
   ]
  },
  {
   "cell_type": "code",
   "execution_count": 6,
   "metadata": {},
   "outputs": [],
   "source": [
    "def collect(assignment):\n",
    "  result = defaultdict(set)\n",
    "  for node in assignment:\n",
    "    result[assignment[node]].add(node)\n",
    "  return result"
   ]
  },
  {
   "cell_type": "code",
   "execution_count": 7,
   "metadata": {},
   "outputs": [],
   "source": [
    "\"\"\"\n",
    "  Define stratification_indexer\n",
    "  \n",
    "    Params: \n",
    "    - groups (an map from group_id to list of member)\n",
    "      groups[i] return members of group i.\n",
    "      Group 0 is the 'default' group and is not present.\n",
    "      Can be negative, which will always be ignored.\n",
    "    - strata_sizes (an integer array of length = number of strata)\n",
    "      strata_sizes[i] return the size cap of the stratum i (except i=0)\n",
    "    - num_multisample (an integer)\n",
    "    \n",
    "    Functionality:\n",
    "      Perform sampling on the same set of parameters num_multisample time.\n",
    "      In general case, sample strata_sizes[i] nodes from group i w/o replacement.\n",
    "      \n",
    "      If the specified strata_size[i] is larger than the number of nodes in group i,\n",
    "      retuen all nodes in group i, and increase the number of sample in the default\n",
    "      strata (group 0) with strata_size[i] - actual size of group[i].\n",
    "      \n",
    "    Return:\n",
    "      sampled_nodes, (numpy.ndarray)\n",
    "      log_down_sampling_rate for each sampled node, (numpy.ndarray)\n",
    "\"\"\"\n",
    "def stratification_indexer(num_nodes, groups_assignment, strata_sizes, post_assignments={}, num_multisample=1):\n",
    "  \n",
    "  num_strata = len(strata_sizes)\n",
    "  groups = collect(groups_assignment)\n",
    "  sizeof_pool0 = num_nodes - sum([len(groups[i]) for i in groups])\n",
    "  \n",
    "  def sample_once():\n",
    "    \n",
    "    sizeof_strata0 = strata_sizes[0]\n",
    "    selected_indices_for_strata = [None] * num_strata\n",
    "    \n",
    "    for i in range(1, num_strata):\n",
    "      selected_indices_for_strata[i] = random.sample(groups[i], min(len(groups[i]), strata_sizes[i]))\n",
    "      sizeof_strata0 += strata_sizes[i] - len(selected_indices_for_strata[i])\n",
    "    \n",
    "    selected_indices_for_strata[0] = random_integer_excluding(low=0, high=num_nodes, excluding=groups_assignment, size=sizeof_strata0)\n",
    "    actual_strata_sizes = [sizeof_strata0]\n",
    "    pool_sizes = [sizeof_pool0]\n",
    "    \n",
    "    for i in range(1, num_strata):  \n",
    "      actual_strata_sizes.append(len(selected_indices_for_strata[i]))\n",
    "      pool_sizes.append(len(groups[i]))\n",
    " \n",
    "    for n in post_assignments:\n",
    "      actual_strata_sizes[post_assignments[n]] += 1\n",
    "      pool_sizes[post_assignments[n]] += 1\n",
    "      \n",
    "    \n",
    "    nested_strata_sizes = [[actual_strata_sizes[i]] * len(selected_indices_for_strata[i]) for i in range(num_strata)]\n",
    "    nested_pool_sizes = [[pool_sizes[i]] * len(selected_indices_for_strata[i]) for i in range(num_strata)]\n",
    "    \n",
    "    for n in post_assignments:\n",
    "      selected_indices_for_strata.append([n])\n",
    "      nested_strata_sizes.append([actual_strata_sizes[post_assignments[n]]])\n",
    "      nested_pool_sizes.append([pool_sizes[post_assignments[n]]])\n",
    "    \n",
    "    return flatten(selected_indices_for_strata), flatten(nested_strata_sizes), flatten(nested_pool_sizes)\n",
    "  \n",
    "  return [sample_once() for _ in range(num_multisample)]"
   ]
  },
  {
   "cell_type": "code",
   "execution_count": 8,
   "metadata": {},
   "outputs": [
    {
     "data": {
      "text/plain": [
       "[(deque([3, 4, 5, 1]), deque([3, 3, 1, 3]), deque([4, 4, 2, 4])),\n",
       " (deque([3, 4, 6, 1]), deque([3, 3, 1, 3]), deque([4, 4, 2, 4]))]"
      ]
     },
     "execution_count": 8,
     "metadata": {},
     "output_type": "execute_result"
    }
   ],
   "source": [
    "def test():\n",
    "  groups_assignment = {0:-1, 1:-1, 2:1, 3:1, 4:1, 5:2, 6:2}\n",
    "  strata_sizes = np.array([0,2,1])\n",
    "  return stratification_indexer(7, groups_assignment, strata_sizes, post_assignments={1:1}, num_multisample=2)\n",
    "test()"
   ]
  },
  {
   "cell_type": "code",
   "execution_count": 9,
   "metadata": {},
   "outputs": [
    {
     "data": {
      "text/plain": [
       "[(deque([8, 7, 3, 4, 6, 5, 1]),\n",
       "  deque([2, 2, 2, 2, 3, 3, 3]),\n",
       "  deque([2, 2, 3, 3, 3, 3, 3])),\n",
       " (deque([8, 7, 3, 4, 6, 5, 1]),\n",
       "  deque([2, 2, 2, 2, 3, 3, 3]),\n",
       "  deque([2, 2, 3, 3, 3, 3, 3]))]"
      ]
     },
     "execution_count": 9,
     "metadata": {},
     "output_type": "execute_result"
    }
   ],
   "source": [
    "def test():\n",
    "  groups_assignment = {0:-1, 1:-1, 2:1, 3:1, 4:1, 5:2, 6:2}\n",
    "  strata_sizes = np.array([1,2,3])\n",
    "  return stratification_indexer(9, groups_assignment, strata_sizes, post_assignments={1:2}, num_multisample=2)\n",
    "test()"
   ]
  },
  {
   "cell_type": "code",
   "execution_count": 10,
   "metadata": {},
   "outputs": [],
   "source": [
    "class DirectedColorGraphFeatureExtractor(object):\n",
    "  \n",
    "  def __init__(self, num_nodes, num_multisample, graph_info=None):\n",
    "    self.num_nodes = num_nodes\n",
    "    self.adjacency_to = [Counter() for _ in range(num_nodes)]\n",
    "    self.adjacency_from = [Counter() for _ in range(num_nodes)]\n",
    "    self.in_degs = np.zeros(num_nodes)\n",
    "    self.out_degs = np.zeros(num_nodes)\n",
    "    self.graph_info = graph_info\n",
    "    self.num_multisample = num_multisample\n",
    "    self.data = {i:[[] for _ in range(num_multisample)] for i in ['Xs_u', 'ys_u', 'sws_u',\n",
    "                                                                  'Xs_s', 'ys_s', 'sws_s']}\n",
    "    \n",
    "  def add_edge(self, actor, target):\n",
    "    self.out_degs[actor] += 1\n",
    "    self.in_degs[target] += 1\n",
    "    self.adjacency_to[actor][target] += 1\n",
    "    self.adjacency_from[target][actor] += 1\n",
    "      \n",
    "  \n",
    "  def uniform_sample(self, actor, target, num_neg, num_multisample=1):\n",
    "    # Exclude actor, target, those already connected\n",
    "    assignment = {}\n",
    "    assignment[actor] = -1\n",
    "    assignment[target] = -1\n",
    "    return stratification_indexer(self.num_nodes, assignment, [num_neg], post_assignments={target:0}, num_multisample=num_multisample)\n",
    "  \n",
    "    \n",
    "  def stratified_sample(self, actor, target, num_neg, num_multisample=1):\n",
    "    assignment = defaultdict(int)\n",
    "\n",
    "    for n in self.adjacency_to[actor]:\n",
    "      for nn in self.adjacency_to[n]:\n",
    "        assignment[nn] = 2\n",
    "      \n",
    "    for friend in self.adjacency_to[actor]:\n",
    "      assignment[friend] = 1\n",
    "      \n",
    "    target_group = assignment[target]\n",
    "    \n",
    "    assignment[actor] = -1\n",
    "    assignment[target] = -1\n",
    "    \n",
    "    return stratification_indexer(self.num_nodes, assignment, [num_neg//3, num_neg//3, num_neg//3], post_assignments={target:target_group}, num_multisample=num_multisample) \n",
    "    \n",
    "  def extract_feature(self, actor, candidates):\n",
    "  \n",
    "    in_degs = self.in_degs[candidates]\n",
    "    out_degs = self.out_degs[candidates]\n",
    "    payer_to_candidate = np.array([self.adjacency_to[actor][c] for c in candidates])\n",
    "    candidate_to_payer = np.array([self.adjacency_from[actor][c] for c in candidates])\n",
    "    \n",
    "    path2_count = Counter()\n",
    "    \n",
    "    for n in self.adjacency_to[actor]:\n",
    "      for nn in self.adjacency_to[n]:\n",
    "        path2_count[nn] += 1\n",
    "        \n",
    "    num_path2 = np.array([path2_count[c] for c in candidates])\n",
    "    \n",
    "    return [in_degs, out_degs, payer_to_candidate, candidate_to_payer, num_path2]\n",
    "  \n",
    "  def add_edge_and_collect_data(self, actor, target, num_neg):\n",
    "    \n",
    "    for i, (candidates, strata, pool) in enumerate(self.uniform_sample(actor, target, num_neg*100, num_multisample=self.num_multisample)):\n",
    "      self.data['Xs_u'][i].append(self.extract_feature(actor, candidates))\n",
    "      self.data['ys_u'][i].append(num_neg*100)\n",
    "      self.data['sws_u'][i].append(np.log(np.array(pool)/np.array(strata)))\n",
    "      \n",
    "    for i, (candidates, strata, pool) in enumerate(self.stratified_sample(actor, target, num_neg, num_multisample=self.num_multisample)):\n",
    "      self.data['Xs_s'][i].append(self.extract_feature(actor, candidates))\n",
    "      self.data['ys_s'][i].append(num_neg)\n",
    "      self.data['sws_s'][i].append(np.log(np.array(pool)/np.array(strata)))  \n",
    "    self.add_edge(actor, target)"
   ]
  },
  {
   "cell_type": "code",
   "execution_count": 11,
   "metadata": {},
   "outputs": [],
   "source": [
    "def extract(num_neg):\n",
    " \n",
    "  dat = get_edges()\n",
    "  \n",
    "  G = DirectedColorGraphFeatureExtractor(130505, num_multisample=1)\n",
    "  t0 = time.time()\n",
    "  \n",
    "  for i, (actor, target) in enumerate(dat):\n",
    "    G.add_edge_and_collect_data(actor, target, num_neg=num_neg)\n",
    "    \n",
    "    if (i+1) % 4000 == 0 and i > 0:\n",
    "      t = time.time() - t0\n",
    "      t_done = datetime.fromtimestamp(t0 + t * (len(dat)) / (i+1)).strftime('%Y-%m-%dT%H:%M:%S') \n",
    "      msg = \"Args = {}; Time = {}; Progress = {:.2f}; Time since beginning = {:.1f}s; Est finish = {}\"\\\n",
    "            .format(num_neg, datetime.now().strftime('%Y-%m-%dT%H:%M:%S'), (i+1)/len(dat), t, t_done)\n",
    "      print(msg)\n",
    "      \n",
    "  m = MNLogit(num_threads=64)\n",
    "  Xs = np.array(G.data['Xs_u']).transpose([0,1,3,2])\n",
    "  ys = np.array(G.data['ys_u'])\n",
    "  sws = np.array(G.data['sws_u'])\n",
    "\n",
    "  Xs = np.concatenate((np.log(Xs + (Xs < 0.5).astype(float)), (Xs > 0.5).astype(float)), axis=3) \n",
    "\n",
    "  m.data(Xs[0], ys[0], sws=sws[0]*0)\n",
    "  m.fit(max_num_iter=300)\n",
    "  uniform_results = m.get_model_info()\n",
    "  del m, Xs, ys, sws\n",
    "  \n",
    "  m = MNLogit(num_threads=64)\n",
    "  Xs = np.array(G.data['Xs_s']).transpose([0,1,3,2])\n",
    "  ys = np.array(G.data['ys_s'])\n",
    "  sws = np.array(G.data['sws_s'])\n",
    "\n",
    "  Xs = np.concatenate((np.log(Xs + (Xs < 0.5).astype(float)), (Xs > 0.5).astype(float)), axis=3) \n",
    "\n",
    "  m.data(Xs[0], ys[0], sws=sws[0])\n",
    "  m.fit(max_num_iter=300)\n",
    "  stratified_results = m.get_model_info()\n",
    "  del m, Xs, ys, sws\n",
    "  \n",
    "  return uniform_results, stratified_results"
   ]
  },
  {
   "cell_type": "code",
   "execution_count": 12,
   "metadata": {},
   "outputs": [
    {
     "name": "stdout",
     "output_type": "stream",
     "text": [
      "Args = 6; Time = 2019-08-14T18:26:07; Progress = 0.20; Time since beginning = 8.0s; Est finish = 2019-08-14T18:26:40\n",
      "Args = 9; Time = 2019-08-14T18:26:11; Progress = 0.20; Time since beginning = 11.5s; Est finish = 2019-08-14T18:26:57\n",
      "Args = 12; Time = 2019-08-14T18:26:14; Progress = 0.20; Time since beginning = 14.9s; Est finish = 2019-08-14T18:27:15\n",
      "Args = 6; Time = 2019-08-14T18:26:15; Progress = 0.40; Time since beginning = 16.0s; Est finish = 2019-08-14T18:26:40\n",
      "Args = 18; Time = 2019-08-14T18:26:21; Progress = 0.20; Time since beginning = 22.1s; Est finish = 2019-08-14T18:27:51\n",
      "Args = 9; Time = 2019-08-14T18:26:22; Progress = 0.40; Time since beginning = 23.0s; Est finish = 2019-08-14T18:26:57\n",
      "Args = 6; Time = 2019-08-14T18:26:23; Progress = 0.59; Time since beginning = 24.1s; Est finish = 2019-08-14T18:26:40\n",
      "Args = 24; Time = 2019-08-14T18:26:29; Progress = 0.20; Time since beginning = 29.4s; Est finish = 2019-08-14T18:28:28\n",
      "Args = 12; Time = 2019-08-14T18:26:29; Progress = 0.40; Time since beginning = 29.9s; Est finish = 2019-08-14T18:27:15\n",
      "Args = 6; Time = 2019-08-14T18:26:31; Progress = 0.79; Time since beginning = 32.1s; Est finish = 2019-08-14T18:26:40\n",
      "Args = 9; Time = 2019-08-14T18:26:34; Progress = 0.59; Time since beginning = 34.6s; Est finish = 2019-08-14T18:26:57\n",
      "Args = 6; Time = 2019-08-14T18:26:39; Progress = 0.99; Time since beginning = 40.2s; Est finish = 2019-08-14T18:26:40\n",
      "Args = 36; Time = 2019-08-14T18:26:42; Progress = 0.20; Time since beginning = 43.3s; Est finish = 2019-08-14T18:29:38\n",
      "Args = 18; Time = 2019-08-14T18:26:43; Progress = 0.40; Time since beginning = 44.3s; Est finish = 2019-08-14T18:27:51\n",
      "Args = 12; Time = 2019-08-14T18:26:44; Progress = 0.59; Time since beginning = 45.0s; Est finish = 2019-08-14T18:27:15\n",
      "Args = 9; Time = 2019-08-14T18:26:45; Progress = 0.79; Time since beginning = 46.3s; Est finish = 2019-08-14T18:26:58\n",
      "Args = 48; Time = 2019-08-14T18:26:59; Progress = 0.20; Time since beginning = 59.6s; Est finish = 2019-08-14T18:31:01\n",
      "Args = 9; Time = 2019-08-14T18:26:59; Progress = 0.99; Time since beginning = 59.7s; Est finish = 2019-08-14T18:26:59\n",
      "Args = 24; Time = 2019-08-14T18:27:00; Progress = 0.40; Time since beginning = 61.3s; Est finish = 2019-08-14T18:28:34\n",
      "Args = 12; Time = 2019-08-14T18:27:02; Progress = 0.79; Time since beginning = 62.4s; Est finish = 2019-08-14T18:27:18\n",
      "Args = 18; Time = 2019-08-14T18:27:11; Progress = 0.59; Time since beginning = 71.8s; Est finish = 2019-08-14T18:28:00\n",
      "Args = 12; Time = 2019-08-14T18:27:23; Progress = 0.99; Time since beginning = 84.0s; Est finish = 2019-08-14T18:27:24\n",
      "Args = 36; Time = 2019-08-14T18:27:43; Progress = 0.40; Time since beginning = 104.2s; Est finish = 2019-08-14T18:30:23\n",
      "Args = 72; Time = 2019-08-14T18:27:46; Progress = 0.20; Time since beginning = 106.8s; Est finish = 2019-08-14T18:35:00\n",
      "Args = 18; Time = 2019-08-14T18:27:47; Progress = 0.79; Time since beginning = 108.2s; Est finish = 2019-08-14T18:28:16\n",
      "Args = 24; Time = 2019-08-14T18:27:47; Progress = 0.59; Time since beginning = 108.3s; Est finish = 2019-08-14T18:29:02\n",
      "Args = 18; Time = 2019-08-14T18:28:24; Progress = 0.99; Time since beginning = 145.3s; Est finish = 2019-08-14T18:28:26\n",
      "Args = 48; Time = 2019-08-14T18:28:35; Progress = 0.40; Time since beginning = 155.5s; Est finish = 2019-08-14T18:32:33\n",
      "Args = 96; Time = 2019-08-14T18:28:37; Progress = 0.20; Time since beginning = 158.0s; Est finish = 2019-08-14T18:39:19\n",
      "Args = 24; Time = 2019-08-14T18:28:38; Progress = 0.79; Time since beginning = 158.8s; Est finish = 2019-08-14T18:29:20\n",
      "Args = 36; Time = 2019-08-14T18:28:54; Progress = 0.59; Time since beginning = 175.3s; Est finish = 2019-08-14T18:30:55\n",
      "Args = 24; Time = 2019-08-14T18:29:24; Progress = 0.99; Time since beginning = 204.5s; Est finish = 2019-08-14T18:29:26\n",
      "Args = 36; Time = 2019-08-14T18:29:58; Progress = 0.79; Time since beginning = 239.4s; Est finish = 2019-08-14T18:31:02\n",
      "Args = 48; Time = 2019-08-14T18:30:01; Progress = 0.59; Time since beginning = 242.4s; Est finish = 2019-08-14T18:32:48\n",
      "Args = 72; Time = 2019-08-14T18:30:04; Progress = 0.40; Time since beginning = 245.3s; Est finish = 2019-08-14T18:36:20\n",
      "Args = 36; Time = 2019-08-14T18:31:08; Progress = 0.99; Time since beginning = 308.6s; Est finish = 2019-08-14T18:31:11\n",
      "Args = 48; Time = 2019-08-14T18:31:29; Progress = 0.79; Time since beginning = 330.4s; Est finish = 2019-08-14T18:32:57\n",
      "Args = 96; Time = 2019-08-14T18:31:36; Progress = 0.40; Time since beginning = 336.5s; Est finish = 2019-08-14T18:40:11\n",
      "Args = 72; Time = 2019-08-14T18:32:18; Progress = 0.59; Time since beginning = 378.8s; Est finish = 2019-08-14T18:36:38\n",
      "Args = 48; Time = 2019-08-14T18:32:54; Progress = 0.99; Time since beginning = 414.6s; Est finish = 2019-08-14T18:32:59\n",
      "Args = 72; Time = 2019-08-14T18:34:26; Progress = 0.79; Time since beginning = 507.1s; Est finish = 2019-08-14T18:36:41\n",
      "Args = 96; Time = 2019-08-14T18:34:30; Progress = 0.59; Time since beginning = 510.8s; Est finish = 2019-08-14T18:40:21\n",
      "Args = 72; Time = 2019-08-14T18:36:34; Progress = 0.99; Time since beginning = 634.4s; Est finish = 2019-08-14T18:36:41\n",
      "Args = 96; Time = 2019-08-14T18:37:15; Progress = 0.79; Time since beginning = 676.4s; Est finish = 2019-08-14T18:40:15\n",
      "Args = 96; Time = 2019-08-14T18:39:43; Progress = 0.99; Time since beginning = 823.7s; Est finish = 2019-08-14T18:39:53\n"
     ]
    }
   ],
   "source": [
    "from multiprocessing import Pool\n",
    "\n",
    "with Pool(10) as p:\n",
    "  results = p.map(extract, [6,9,12,18,24,36,48,72,96])"
   ]
  },
  {
   "cell_type": "code",
   "execution_count": 13,
   "metadata": {},
   "outputs": [
    {
     "data": {
      "text/plain": [
       "[<matplotlib.lines.Line2D at 0x7f85dd21f048>,\n",
       " <matplotlib.lines.Line2D at 0x7f85dd21f208>,\n",
       " <matplotlib.lines.Line2D at 0x7f85dd21f358>,\n",
       " <matplotlib.lines.Line2D at 0x7f85dd21f4a8>,\n",
       " <matplotlib.lines.Line2D at 0x7f85dd21f5f8>]"
      ]
     },
     "execution_count": 13,
     "metadata": {},
     "output_type": "execute_result"
    }
   ],
   "source": [
    "import matplotlib.pyplot as plt\n",
    "plt.plot([results[i][1]['weights'][5:10] for i in range(9)])"
   ]
  },
  {
   "cell_type": "code",
   "execution_count": 14,
   "metadata": {},
   "outputs": [
    {
     "data": {
      "text/plain": [
       "array([3.01220315, 0.99678625, 8.38569289, 0.8703205 , 1.55284004])"
      ]
     },
     "execution_count": 14,
     "metadata": {},
     "output_type": "execute_result"
    }
   ],
   "source": [
    "results[0][1]['weights'][5:10]"
   ]
  },
  {
   "cell_type": "code",
   "execution_count": 18,
   "metadata": {},
   "outputs": [
    {
     "data": {
      "text/plain": [
       "[<matplotlib.lines.Line2D at 0x7f85dd086128>,\n",
       " <matplotlib.lines.Line2D at 0x7f85dd0275c0>,\n",
       " <matplotlib.lines.Line2D at 0x7f85dd027710>,\n",
       " <matplotlib.lines.Line2D at 0x7f85dd027860>,\n",
       " <matplotlib.lines.Line2D at 0x7f85dd0279b0>]"
      ]
     },
     "execution_count": 18,
     "metadata": {},
     "output_type": "execute_result"
    },
    {
     "data": {
      "image/png": "[encoded data removed]",
      "text/plain": [
       "<Figure size 432x288 with 1 Axes>"
      ]
     },
     "metadata": {},
     "output_type": "display_data"
    }
   ],
   "source": [
    "import matplotlib.pyplot as plt\n",
    "plt.plot([results[i][0]['weights'][5:10] for i in range(9)])"
   ]
  },
  {
   "cell_type": "code",
   "execution_count": 19,
   "metadata": {},
   "outputs": [
    {
     "data": {
      "text/plain": [
       "[<matplotlib.lines.Line2D at 0x7f85dcfea3c8>,\n",
       " <matplotlib.lines.Line2D at 0x7f85dcfea518>,\n",
       " <matplotlib.lines.Line2D at 0x7f85dcfea668>,\n",
       " <matplotlib.lines.Line2D at 0x7f85dcfea7b8>,\n",
       " <matplotlib.lines.Line2D at 0x7f85dcfea908>]"
      ]
     },
     "execution_count": 19,
     "metadata": {},
     "output_type": "execute_result"
    },
    {
     "data": {
      "image/png": "[encoded data removed]",
      "text/plain": [
       "<Figure size 432x288 with 1 Axes>"
      ]
     },
     "metadata": {},
     "output_type": "display_data"
    }
   ],
   "source": [
    "import matplotlib.pyplot as plt\n",
    "plt.plot([results[i][1]['weights'][5:10] for i in range(9)])"
   ]
  },
  {
   "cell_type": "code",
   "execution_count": null,
   "metadata": {},
   "outputs": [],
   "source": []
  }
 ],
 "metadata": {
  "kernelspec": {
   "display_name": "Python 3",
   "language": "python",
   "name": "python3"
  },
  "language_info": {
   "codemirror_mode": {
    "name": "ipython",
    "version": 3
   },
   "file_extension": ".py",
   "mimetype": "text/x-python",
   "name": "python",
   "nbconvert_exporter": "python",
   "pygments_lexer": "ipython3",
   "version": "3.5.2"
  }
 },
 "nbformat": 4,
 "nbformat_minor": 2
}
